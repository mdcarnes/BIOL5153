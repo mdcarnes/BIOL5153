{
 "cells": [
  {
   "cell_type": "code",
   "execution_count": 1,
   "metadata": {},
   "outputs": [
    {
     "name": "stdout",
     "output_type": "stream",
     "text": [
      "Hello world\n"
     ]
    }
   ],
   "source": [
    "print(\"Hello world\")\n"
   ]
  },
  {
   "cell_type": "code",
   "execution_count": 2,
   "metadata": {},
   "outputs": [
    {
     "name": "stdout",
     "output_type": "stream",
     "text": [
      "Hello world\n"
     ]
    }
   ],
   "source": [
    "print('Hello world')"
   ]
  },
  {
   "cell_type": "code",
   "execution_count": 3,
   "metadata": {},
   "outputs": [
    {
     "name": "stdout",
     "output_type": "stream",
     "text": [
      "Hello world\n",
      "Hello world\n"
     ]
    }
   ],
   "source": [
    "print(\"Hello world\")\n",
    "print('Hello world')"
   ]
  },
  {
   "cell_type": "code",
   "execution_count": 4,
   "metadata": {},
   "outputs": [
    {
     "name": "stdout",
     "output_type": "stream",
     "text": [
      "She said, 'Hello World'\n"
     ]
    }
   ],
   "source": [
    "print (\"She said, 'Hello World'\")"
   ]
  },
  {
   "cell_type": "code",
   "execution_count": 5,
   "metadata": {},
   "outputs": [
    {
     "name": "stdout",
     "output_type": "stream",
     "text": [
      "Hello world\n"
     ]
    }
   ],
   "source": [
    "#print a friendly greeting\n",
    "print('Hello world')"
   ]
  },
  {
   "cell_type": "code",
   "execution_count": 6,
   "metadata": {},
   "outputs": [
    {
     "ename": "SyntaxError",
     "evalue": "invalid syntax (<ipython-input-6-63868289fc00>, line 1)",
     "output_type": "error",
     "traceback": [
      "\u001b[0;36m  File \u001b[0;32m\"<ipython-input-6-63868289fc00>\"\u001b[0;36m, line \u001b[0;32m1\u001b[0m\n\u001b[0;31m    print(hello world)\u001b[0m\n\u001b[0m                    ^\u001b[0m\n\u001b[0;31mSyntaxError\u001b[0m\u001b[0;31m:\u001b[0m invalid syntax\n"
     ]
    }
   ],
   "source": [
    "print(hello world)"
   ]
  },
  {
   "cell_type": "code",
   "execution_count": 7,
   "metadata": {},
   "outputs": [
    {
     "ename": "NameError",
     "evalue": "name 'pring' is not defined",
     "output_type": "error",
     "traceback": [
      "\u001b[0;31m---------------------------------------------------------------------------\u001b[0m",
      "\u001b[0;31mNameError\u001b[0m                                 Traceback (most recent call last)",
      "\u001b[0;32m<ipython-input-7-cac9415b72aa>\u001b[0m in \u001b[0;36m<module>\u001b[0;34m()\u001b[0m\n\u001b[0;32m----> 1\u001b[0;31m \u001b[0mpring\u001b[0m\u001b[0;34m(\u001b[0m\u001b[0;34m\"Hello world\"\u001b[0m\u001b[0;34m)\u001b[0m\u001b[0;34m\u001b[0m\u001b[0m\n\u001b[0m",
      "\u001b[0;31mNameError\u001b[0m: name 'pring' is not defined"
     ]
    }
   ],
   "source": [
    "pring(\"Hello world\")"
   ]
  },
  {
   "cell_type": "code",
   "execution_count": 8,
   "metadata": {},
   "outputs": [
    {
     "ename": "SyntaxError",
     "evalue": "EOL while scanning string literal (<ipython-input-8-5b0441da1ded>, line 1)",
     "output_type": "error",
     "traceback": [
      "\u001b[0;36m  File \u001b[0;32m\"<ipython-input-8-5b0441da1ded>\"\u001b[0;36m, line \u001b[0;32m1\u001b[0m\n\u001b[0;31m    print(\"Hello\u001b[0m\n\u001b[0m                ^\u001b[0m\n\u001b[0;31mSyntaxError\u001b[0m\u001b[0;31m:\u001b[0m EOL while scanning string literal\n"
     ]
    }
   ],
   "source": [
    "print(\"Hello\n",
    "      world\")"
   ]
  },
  {
   "cell_type": "code",
   "execution_count": 9,
   "metadata": {},
   "outputs": [
    {
     "name": "stdout",
     "output_type": "stream",
     "text": [
      "Hello \n",
      "world\n"
     ]
    }
   ],
   "source": [
    "print('Hello \\nworld')"
   ]
  },
  {
   "cell_type": "code",
   "execution_count": 10,
   "metadata": {
    "collapsed": true
   },
   "outputs": [],
   "source": [
    "#store a short DNA sequence in the variably my_dna\n",
    "my_dna = \"ATGCGTA\""
   ]
  },
  {
   "cell_type": "code",
   "execution_count": 11,
   "metadata": {},
   "outputs": [
    {
     "name": "stdout",
     "output_type": "stream",
     "text": [
      "ATGCGTA\n"
     ]
    }
   ],
   "source": [
    "#now print the DNA sequence\n",
    "print(my_dna)"
   ]
  },
  {
   "cell_type": "code",
   "execution_count": 12,
   "metadata": {},
   "outputs": [
    {
     "name": "stdout",
     "output_type": "stream",
     "text": [
      "TGGTCCA\n"
     ]
    }
   ],
   "source": [
    "#change the value of my_dna\n",
    "my_dna = \"TGGTCCA\"\n",
    "#print the new value\n",
    "print(my_dna)"
   ]
  },
  {
   "cell_type": "code",
   "execution_count": 13,
   "metadata": {},
   "outputs": [
    {
     "name": "stdout",
     "output_type": "stream",
     "text": [
      "ATGCGTA\n"
     ]
    }
   ],
   "source": [
    "#store the short DNA sequence in the variable banana\n",
    "banana = \"ATGCGTA\"\n",
    "#print the sequence\n",
    "print(banana)"
   ]
  },
  {
   "cell_type": "code",
   "execution_count": 14,
   "metadata": {
    "scrolled": true
   },
   "outputs": [
    {
     "name": "stdout",
     "output_type": "stream",
     "text": [
      "ATGCGTA TGGTCCA\n"
     ]
    }
   ],
   "source": [
    "print(banana, my_dna)"
   ]
  },
  {
   "cell_type": "code",
   "execution_count": 1,
   "metadata": {
    "collapsed": true
   },
   "outputs": [],
   "source": [
    "my_dna = \"AATT\" + 'GGCC'"
   ]
  },
  {
   "cell_type": "code",
   "execution_count": 2,
   "metadata": {},
   "outputs": [
    {
     "name": "stdout",
     "output_type": "stream",
     "text": [
      "AATTGGCC\n"
     ]
    }
   ],
   "source": [
    "print (my_dna)"
   ]
  },
  {
   "cell_type": "code",
   "execution_count": 3,
   "metadata": {
    "collapsed": true
   },
   "outputs": [],
   "source": [
    "upstream = \"AAA\"\n",
    "my_dna = upstream + \"ATGC\"\n",
    "#my_dna is now \"AAAATCG\""
   ]
  },
  {
   "cell_type": "code",
   "execution_count": 5,
   "metadata": {
    "collapsed": true
   },
   "outputs": [],
   "source": [
    "upstream = \"AAA\"\n",
    "downstream = \"GGG\"\n",
    "my_dna = upstream + \"ATGC\" + downstream\n",
    "#my_dna is now \"AAAATGCGGG\""
   ]
  },
  {
   "cell_type": "code",
   "execution_count": 6,
   "metadata": {},
   "outputs": [
    {
     "name": "stdout",
     "output_type": "stream",
     "text": [
      "Hello world\n"
     ]
    }
   ],
   "source": [
    "print (\"Hello\" + \" \" + \"world\")"
   ]
  },
  {
   "cell_type": "code",
   "execution_count": 7,
   "metadata": {},
   "outputs": [
    {
     "data": {
      "text/plain": [
       "4"
      ]
     },
     "execution_count": 7,
     "metadata": {},
     "output_type": "execute_result"
    }
   ],
   "source": [
    "#this line doesn't produce any output\n",
    "len(\"ATGC\")"
   ]
  },
  {
   "cell_type": "code",
   "execution_count": 8,
   "metadata": {},
   "outputs": [
    {
     "name": "stdout",
     "output_type": "stream",
     "text": [
      "4\n"
     ]
    }
   ],
   "source": [
    "dna_length = len(\"AGTC\")\n",
    "print(dna_length)"
   ]
  },
  {
   "cell_type": "code",
   "execution_count": 9,
   "metadata": {},
   "outputs": [
    {
     "ename": "TypeError",
     "evalue": "must be str, not int",
     "output_type": "error",
     "traceback": [
      "\u001b[0;31m---------------------------------------------------------------------------\u001b[0m",
      "\u001b[0;31mTypeError\u001b[0m                                 Traceback (most recent call last)",
      "\u001b[0;32m<ipython-input-9-b9fa7503d860>\u001b[0m in \u001b[0;36m<module>\u001b[0;34m()\u001b[0m\n\u001b[1;32m      4\u001b[0m \u001b[0mdna_length\u001b[0m \u001b[0;34m=\u001b[0m \u001b[0mlen\u001b[0m\u001b[0;34m(\u001b[0m\u001b[0mmy_dna\u001b[0m\u001b[0;34m)\u001b[0m\u001b[0;34m\u001b[0m\u001b[0m\n\u001b[1;32m      5\u001b[0m \u001b[0;31m#print a message telling us the DNA sequence length\u001b[0m\u001b[0;34m\u001b[0m\u001b[0;34m\u001b[0m\u001b[0m\n\u001b[0;32m----> 6\u001b[0;31m \u001b[0mprint\u001b[0m\u001b[0;34m(\u001b[0m\u001b[0;34m\"the length of the DNA sequence is\"\u001b[0m \u001b[0;34m+\u001b[0m \u001b[0mdna_length\u001b[0m\u001b[0;34m)\u001b[0m\u001b[0;34m\u001b[0m\u001b[0m\n\u001b[0m",
      "\u001b[0;31mTypeError\u001b[0m: must be str, not int"
     ]
    }
   ],
   "source": [
    "#store the DNA sequence in a variable\n",
    "my_dna = \"ATGCGAGT\"\n",
    "#calculate the length of the sequence and store it in a variable\n",
    "dna_length = len(my_dna)\n",
    "#print a message telling us the DNA sequence length\n",
    "print(\"the length of the DNA sequence is\" + dna_length)\n"
   ]
  },
  {
   "cell_type": "code",
   "execution_count": 11,
   "metadata": {},
   "outputs": [
    {
     "name": "stdout",
     "output_type": "stream",
     "text": [
      "The length of the DNA sequence is 8\n"
     ]
    }
   ],
   "source": [
    "my_dna = \"ATGCGAGT\"\n",
    "dna_length = len(my_dna)\n",
    "print(\"The length of the DNA sequence is \" + str(dna_length))"
   ]
  },
  {
   "cell_type": "code",
   "execution_count": 1,
   "metadata": {},
   "outputs": [
    {
     "name": "stdout",
     "output_type": "stream",
     "text": [
      "atgc\n"
     ]
    }
   ],
   "source": [
    "my_dna = \"ATGC\"\n",
    "#print my_dna in lower case\n",
    "print(my_dna.lower())"
   ]
  },
  {
   "cell_type": "code",
   "execution_count": 2,
   "metadata": {},
   "outputs": [
    {
     "name": "stdout",
     "output_type": "stream",
     "text": [
      "atgc\n"
     ]
    }
   ],
   "source": [
    "my_dna = \"AtGc\"\n",
    "#can you print a mixed case string in all lower\n",
    "print (my_dna.lower())"
   ]
  },
  {
   "cell_type": "code",
   "execution_count": 3,
   "metadata": {},
   "outputs": [
    {
     "name": "stdout",
     "output_type": "stream",
     "text": [
      "ATGC\n"
     ]
    }
   ],
   "source": [
    "print (my_dna.upper())\n"
   ]
  },
  {
   "cell_type": "code",
   "execution_count": 4,
   "metadata": {},
   "outputs": [
    {
     "name": "stdout",
     "output_type": "stream",
     "text": [
      "before: ATGC\n",
      "after: ATGC\n"
     ]
    }
   ],
   "source": [
    "my_dna = \"ATGC\"\n",
    "#print the varibale\n",
    "print (\"before: \" + my_dna)\n",
    "#run the lower method and store the result\n",
    "lowercase_dna = my_dna.lower()\n",
    "#print the variable again\n",
    "print(\"after: \" + my_dna)"
   ]
  },
  {
   "cell_type": "code",
   "execution_count": 5,
   "metadata": {},
   "outputs": [
    {
     "ename": "AttributeError",
     "evalue": "'int' object has no attribute 'lower'",
     "output_type": "error",
     "traceback": [
      "\u001b[0;31m---------------------------------------------------------------------------\u001b[0m",
      "\u001b[0;31mAttributeError\u001b[0m                            Traceback (most recent call last)",
      "\u001b[0;32m<ipython-input-5-167915f7c4b4>\u001b[0m in \u001b[0;36m<module>\u001b[0;34m()\u001b[0m\n\u001b[1;32m      1\u001b[0m \u001b[0mmy_number\u001b[0m \u001b[0;34m=\u001b[0m \u001b[0mlen\u001b[0m\u001b[0;34m(\u001b[0m\u001b[0;34m\"AGTC\"\u001b[0m\u001b[0;34m)\u001b[0m\u001b[0;34m\u001b[0m\u001b[0m\n\u001b[1;32m      2\u001b[0m \u001b[0;31m#my number is 4\u001b[0m\u001b[0;34m\u001b[0m\u001b[0;34m\u001b[0m\u001b[0m\n\u001b[0;32m----> 3\u001b[0;31m \u001b[0mprint\u001b[0m\u001b[0;34m(\u001b[0m\u001b[0mmy_number\u001b[0m\u001b[0;34m.\u001b[0m\u001b[0mlower\u001b[0m\u001b[0;34m(\u001b[0m\u001b[0;34m)\u001b[0m\u001b[0;34m)\u001b[0m\u001b[0;34m\u001b[0m\u001b[0m\n\u001b[0m",
      "\u001b[0;31mAttributeError\u001b[0m: 'int' object has no attribute 'lower'"
     ]
    }
   ],
   "source": [
    "my_number = len(\"AGTC\")\n",
    "#my number is 4\n",
    "print(my_number.lower())"
   ]
  },
  {
   "cell_type": "code",
   "execution_count": 6,
   "metadata": {},
   "outputs": [
    {
     "name": "stdout",
     "output_type": "stream",
     "text": [
      "ylspadktny\n",
      "ymtpadktnv\n",
      "vlspadktnv\n"
     ]
    }
   ],
   "source": [
    "protein = \"vlspadktnv\"\n",
    "#replace valine with tyrosine\n",
    "print(protein.replace(\"v\", \"y\"))\n",
    "#we can replace more than one character\n",
    "print(protein.replace(\"vls\", \"ymt\"))\n",
    "#the original variable is not affected\n",
    "print(protein)\n"
   ]
  },
  {
   "cell_type": "code",
   "execution_count": 7,
   "metadata": {},
   "outputs": [
    {
     "name": "stdout",
     "output_type": "stream",
     "text": [
      "pa\n",
      "vlspad\n",
      "vlspadktnv\n"
     ]
    }
   ],
   "source": [
    "protein = \"vlspadktnv\"\n",
    "#print positions three to five\n",
    "print(protein[3:5])\n",
    "#positions start at 0 not 1\n",
    "print (protein[0:6])\n",
    "#if we use a stop position beyond the end, ist the same as using the end\n",
    "print(protein[0:60])\n"
   ]
  },
  {
   "cell_type": "code",
   "execution_count": 9,
   "metadata": {},
   "outputs": [
    {
     "name": "stdout",
     "output_type": "stream",
     "text": [
      "v\n"
     ]
    }
   ],
   "source": [
    "protein = \"vlspadktnv\"\n",
    "#save the first character to a variable\n",
    "first_residue = protein [0]\n",
    "#print the value\n",
    "print(first_residue)"
   ]
  },
  {
   "cell_type": "code",
   "execution_count": 10,
   "metadata": {},
   "outputs": [
    {
     "name": "stdout",
     "output_type": "stream",
     "text": [
      "valines: 2\n",
      "lsp: 1\n",
      "tryptophan: 0\n"
     ]
    }
   ],
   "source": [
    "protein = \"vlspadktnv\"\n",
    "#coutn amino acid residues\n",
    "valine_count = protein.count('v')\n",
    "lsp_count = protein.count('lsp')\n",
    "tryptophan_count = protein.count('w')\n",
    "\n",
    "#now print the counts\n",
    "print(\"valines: \" + str(valine_count))\n",
    "print(\"lsp: \" + str (lsp_count))\n",
    "print(\"tryptophan: \" + str(tryptophan_count))\n"
   ]
  },
  {
   "cell_type": "code",
   "execution_count": 11,
   "metadata": {},
   "outputs": [
    {
     "name": "stdout",
     "output_type": "stream",
     "text": [
      "valines: 2\n",
      "lsp: 1\n"
     ]
    },
    {
     "ename": "TypeError",
     "evalue": "must be str, not int",
     "output_type": "error",
     "traceback": [
      "\u001b[0;31m---------------------------------------------------------------------------\u001b[0m",
      "\u001b[0;31mTypeError\u001b[0m                                 Traceback (most recent call last)",
      "\u001b[0;32m<ipython-input-11-99f26a32cd6e>\u001b[0m in \u001b[0;36m<module>\u001b[0;34m()\u001b[0m\n\u001b[1;32m      9\u001b[0m \u001b[0mprint\u001b[0m\u001b[0;34m(\u001b[0m\u001b[0;34m\"lsp: \"\u001b[0m \u001b[0;34m+\u001b[0m \u001b[0mstr\u001b[0m \u001b[0;34m(\u001b[0m\u001b[0mlsp_count\u001b[0m\u001b[0;34m)\u001b[0m\u001b[0;34m)\u001b[0m\u001b[0;34m\u001b[0m\u001b[0m\n\u001b[1;32m     10\u001b[0m \u001b[0;31m#without the str designation\u001b[0m\u001b[0;34m\u001b[0m\u001b[0;34m\u001b[0m\u001b[0m\n\u001b[0;32m---> 11\u001b[0;31m \u001b[0mprint\u001b[0m\u001b[0;34m(\u001b[0m\u001b[0;34m\"tryptophan: \"\u001b[0m \u001b[0;34m+\u001b[0m \u001b[0;34m(\u001b[0m\u001b[0mtryptophan_count\u001b[0m\u001b[0;34m)\u001b[0m\u001b[0;34m)\u001b[0m\u001b[0;34m\u001b[0m\u001b[0m\n\u001b[0m",
      "\u001b[0;31mTypeError\u001b[0m: must be str, not int"
     ]
    }
   ],
   "source": [
    "protein = \"vlspadktnv\"\n",
    "#coutn amino acid residues\n",
    "valine_count = protein.count('v')\n",
    "lsp_count = protein.count('lsp')\n",
    "tryptophan_count = protein.count('w')\n",
    "\n",
    "#now print the counts\n",
    "print(\"valines: \" + str(valine_count))\n",
    "print(\"lsp: \" + str (lsp_count))\n",
    "#without the str designation\n",
    "print(\"tryptophan: \" + (tryptophan_count))"
   ]
  },
  {
   "cell_type": "code",
   "execution_count": 12,
   "metadata": {},
   "outputs": [
    {
     "name": "stdout",
     "output_type": "stream",
     "text": [
      "3\n",
      "6\n",
      "-1\n"
     ]
    }
   ],
   "source": [
    "protein = \"vlspadktnv\"\n",
    "print(str(protein.find('p')))\n",
    "print(str(protein.find('kt')))\n",
    "print(str(protein.find('w')))\n"
   ]
  },
  {
   "cell_type": "code",
   "execution_count": 13,
   "metadata": {},
   "outputs": [
    {
     "ename": "NameError",
     "evalue": "name 'ACTGATCGATTACGTATAGTATTTGCTATCATACATATATATCGATGCGTTCAT' is not defined",
     "output_type": "error",
     "traceback": [
      "\u001b[0;31m---------------------------------------------------------------------------\u001b[0m",
      "\u001b[0;31mNameError\u001b[0m                                 Traceback (most recent call last)",
      "\u001b[0;32m<ipython-input-13-48c199f0e92f>\u001b[0m in \u001b[0;36m<module>\u001b[0;34m()\u001b[0m\n\u001b[0;32m----> 1\u001b[0;31m \u001b[0mshort_dna_sequence\u001b[0m \u001b[0;34m=\u001b[0m \u001b[0mACTGATCGATTACGTATAGTATTTGCTATCATACATATATATCGATGCGTTCAT\u001b[0m\u001b[0;34m\u001b[0m\u001b[0m\n\u001b[0m\u001b[1;32m      2\u001b[0m \u001b[0;31m#count the at\u001b[0m\u001b[0;34m\u001b[0m\u001b[0;34m\u001b[0m\u001b[0m\n\u001b[1;32m      3\u001b[0m \u001b[0mprint\u001b[0m\u001b[0;34m(\u001b[0m\u001b[0mstr\u001b[0m\u001b[0;34m(\u001b[0m\u001b[0mshort_dna_sequence\u001b[0m\u001b[0;34m.\u001b[0m\u001b[0mcount\u001b[0m\u001b[0;34m(\u001b[0m\u001b[0;34m'AT'\u001b[0m\u001b[0;34m)\u001b[0m\u001b[0;34m)\u001b[0m\u001b[0;34m)\u001b[0m\u001b[0;34m\u001b[0m\u001b[0m\n",
      "\u001b[0;31mNameError\u001b[0m: name 'ACTGATCGATTACGTATAGTATTTGCTATCATACATATATATCGATGCGTTCAT' is not defined"
     ]
    }
   ],
   "source": [
    "short_dna_sequence = ACTGATCGATTACGTATAGTATTTGCTATCATACATATATATCGATGCGTTCAT\n",
    "#count the at\n",
    "print(str(short_dna_sequence.count('AT')))"
   ]
  },
  {
   "cell_type": "code",
   "execution_count": 15,
   "metadata": {},
   "outputs": [
    {
     "name": "stdout",
     "output_type": "stream",
     "text": [
      "12\n"
     ]
    }
   ],
   "source": [
    "short_dna_sequence = \"ACTGATCGATTACGTATAGTATTTGCTATCATACATATATATCGATGCGTTCAT\"\n",
    "#save the count as a variable\n",
    "shortstringcount = short_dna_sequence.count('AT')\n",
    "print(str(shortstringcount))"
   ]
  },
  {
   "cell_type": "code",
   "execution_count": 18,
   "metadata": {},
   "outputs": [
    {
     "name": "stdout",
     "output_type": "stream",
     "text": [
      "ACTCATCCATTACCTATACTATTTCCTATCATACATATATATCCATCCCTTCAT\n",
      "AGTGATGGATTAGGTATAGTATTTGGTATGATAGATATATATGGATGGGTTGAT\n"
     ]
    }
   ],
   "source": [
    "my_dna = \"ACTGATCGATTACGTATAGTATTTGCTATCATACATATATATCGATGCGTTCAT\"\n",
    "#replace and print\n",
    "print(my_dna.replace('G', 'C'))\n",
    "print(my_dna.replace('C', 'G'))\n"
   ]
  },
  {
   "cell_type": "code",
   "execution_count": 20,
   "metadata": {},
   "outputs": [
    {
     "ename": "TypeError",
     "evalue": "must be str, not tuple",
     "output_type": "error",
     "traceback": [
      "\u001b[0;31m---------------------------------------------------------------------------\u001b[0m",
      "\u001b[0;31mTypeError\u001b[0m                                 Traceback (most recent call last)",
      "\u001b[0;32m<ipython-input-20-37a772f9bfe2>\u001b[0m in \u001b[0;36m<module>\u001b[0;34m()\u001b[0m\n\u001b[0;32m----> 1\u001b[0;31m \u001b[0mcomplement_dna\u001b[0m \u001b[0;34m=\u001b[0m \u001b[0mmy_dna\u001b[0m\u001b[0;34m.\u001b[0m\u001b[0mreplace\u001b[0m\u001b[0;34m(\u001b[0m\u001b[0;34m\"A\"\u001b[0m\u001b[0;34m,\u001b[0m \u001b[0;34m\"T\"\u001b[0m\u001b[0;34m)\u001b[0m \u001b[0;34m+\u001b[0m \u001b[0;34m(\u001b[0m\u001b[0;34m\"T\"\u001b[0m\u001b[0;34m,\u001b[0m \u001b[0;34m\"A\"\u001b[0m\u001b[0;34m)\u001b[0m\u001b[0;34m\u001b[0m\u001b[0m\n\u001b[0m",
      "\u001b[0;31mTypeError\u001b[0m: must be str, not tuple"
     ]
    }
   ],
   "source": [
    "complement_dna = my_dna.replace(\"A\", \"T\") + (\"T\", \"A\")\n"
   ]
  },
  {
   "cell_type": "code",
   "execution_count": 23,
   "metadata": {
    "collapsed": true
   },
   "outputs": [],
   "source": [
    "my_file = open(\"dna.txt\")\n"
   ]
  },
  {
   "cell_type": "code",
   "execution_count": 24,
   "metadata": {
    "scrolled": true
   },
   "outputs": [
    {
     "name": "stdout",
     "output_type": "stream",
     "text": [
      "abcdefg\n",
      "43\n"
     ]
    }
   ],
   "source": [
    "my_string = 'abcdefg'\n",
    "print(my_string)\n",
    "my_number = 42\n",
    "print(my_number + 1)\n"
   ]
  },
  {
   "cell_type": "code",
   "execution_count": 25,
   "metadata": {},
   "outputs": [
    {
     "name": "stdout",
     "output_type": "stream",
     "text": [
      "ATGCAGCTAGCTGACTGACTGCATGCATGCATGCATGCATGCGCAGCGTAAAAGATAGTATAAATTAGCATGCTAGCTAGCATGACTGACATGCATGCATGACATGCATGACTGCATGACTAGCATGCATGACTGACTAGCAGCATGCATGCATGCATGACTGCAGTGACTGCATGCGACCAGTGAGTCAGTACCTACCCCCCCCCCCCCCTATGACTGACTGACTGACGTATATGCACAAAAAAAAAAATGCATGCATGCTATACAGACTGAAAGTCATGACTAGCTAGCGCTACTGCTGCTGCTGCTGCTACGCATCCGTCTGCTGCAGTCCACACACACTATATAGAGAGAGCGCAGCAGCATGCAGCTATGCATGCTGCTGACTGACTGACTACTGAGCTACGATGAGCTGCTGCATGCTAGAGCTATGCTAGCTAGCTAGCACGATATCTACTGCATGATGCATGCCTGACTGACTGTAGCATGCATGACTCGAGTCACGTATGACTAGCATGCATGCATGCATGCATGCATGATGACATGCATGCATGCATGACTGACTACGTATCGATGCACGTACGTACGTACTGAGTCAGCTAGCTACGTACGTATGCATGCATGCAGCAGCACGCTGACTGACTGACTGATGCACTGACGTACTGACTGACGTATGACGCCCCCCCCCCGGGGGGGGGGGTTTTTTTTTTTAAAAAAAAAAAACGCATGCATGCGACGGGGGGGGGGGAGCTGCATGCTGCTGCCGCGCAGCAGCATATATATTAGACGACATGCATGACTAGCATGATATATGACTGCATGCTAGCATGCATGCTACGCATGATGCTAGCTATGC\n",
      "\n"
     ]
    }
   ],
   "source": [
    "my_file = open(\"dna.txt\")\n",
    "file_contents = my_file.read()\n",
    "print(file_contents)"
   ]
  },
  {
   "cell_type": "code",
   "execution_count": 26,
   "metadata": {
    "collapsed": true
   },
   "outputs": [],
   "source": [
    "my_file_name = \"dna.txt\"\n",
    "my_file = open(my_file_name)\n",
    "my_file_contents = my_file.read()\n"
   ]
  },
  {
   "cell_type": "code",
   "execution_count": 27,
   "metadata": {},
   "outputs": [
    {
     "ename": "AttributeError",
     "evalue": "'str' object has no attribute 'read'",
     "output_type": "error",
     "traceback": [
      "\u001b[0;31m---------------------------------------------------------------------------\u001b[0m",
      "\u001b[0;31mAttributeError\u001b[0m                            Traceback (most recent call last)",
      "\u001b[0;32m<ipython-input-27-dc52d34f7217>\u001b[0m in \u001b[0;36m<module>\u001b[0;34m()\u001b[0m\n\u001b[1;32m      1\u001b[0m \u001b[0mmy_file_name\u001b[0m \u001b[0;34m=\u001b[0m \u001b[0;34m\"dna.txt\"\u001b[0m\u001b[0;34m\u001b[0m\u001b[0m\n\u001b[0;32m----> 2\u001b[0;31m \u001b[0mmy_contents\u001b[0m \u001b[0;34m=\u001b[0m \u001b[0mmy_file_name\u001b[0m\u001b[0;34m.\u001b[0m\u001b[0mread\u001b[0m\u001b[0;34m(\u001b[0m\u001b[0;34m)\u001b[0m\u001b[0;34m\u001b[0m\u001b[0m\n\u001b[0m",
      "\u001b[0;31mAttributeError\u001b[0m: 'str' object has no attribute 'read'"
     ]
    }
   ],
   "source": [
    "my_file_name = \"dna.txt\"\n",
    "my_contents = my_file_name.read()\n"
   ]
  },
  {
   "cell_type": "code",
   "execution_count": 28,
   "metadata": {},
   "outputs": [
    {
     "name": "stdout",
     "output_type": "stream",
     "text": [
      "<_io.TextIOWrapper name='dna.txt' mode='r' encoding='UTF-8'>\n"
     ]
    }
   ],
   "source": [
    "my_file_name = \"dna.txt\"\n",
    "my_file = open(my_file_name)\n",
    "print(my_file)"
   ]
  },
  {
   "cell_type": "code",
   "execution_count": 29,
   "metadata": {
    "scrolled": true
   },
   "outputs": [
    {
     "name": "stdout",
     "output_type": "stream",
     "text": [
      "sequence is ATGCAGCTAGCTGACTGACTGCATGCATGCATGCATGCATGCGCAGCGTAAAAGATAGTATAAATTAGCATGCTAGCTAGCATGACTGACATGCATGCATGACATGCATGACTGCATGACTAGCATGCATGACTGACTAGCAGCATGCATGCATGCATGACTGCAGTGACTGCATGCGACCAGTGAGTCAGTACCTACCCCCCCCCCCCCCTATGACTGACTGACTGACGTATATGCACAAAAAAAAAAATGCATGCATGCTATACAGACTGAAAGTCATGACTAGCTAGCGCTACTGCTGCTGCTGCTGCTACGCATCCGTCTGCTGCAGTCCACACACACTATATAGAGAGAGCGCAGCAGCATGCAGCTATGCATGCTGCTGACTGACTGACTACTGAGCTACGATGAGCTGCTGCATGCTAGAGCTATGCTAGCTAGCTAGCACGATATCTACTGCATGATGCATGCCTGACTGACTGTAGCATGCATGACTCGAGTCACGTATGACTAGCATGCATGCATGCATGCATGCATGATGACATGCATGCATGCATGACTGACTACGTATCGATGCACGTACGTACGTACTGAGTCAGCTAGCTACGTACGTATGCATGCATGCAGCAGCACGCTGACTGACTGACTGATGCACTGACGTACTGACTGACGTATGACGCCCCCCCCCCGGGGGGGGGGGTTTTTTTTTTTAAAAAAAAAAAACGCATGCATGCGACGGGGGGGGGGGAGCTGCATGCTGCTGCCGCGCAGCAGCATATATATTAGACGACATGCATGACTAGCATGATATATGACTGCATGCTAGCATGCATGCTACGCATGATGCTAGCTATGC\n",
      "and the length is 857\n"
     ]
    }
   ],
   "source": [
    "#open the file\n",
    "my_file = open(\"dna.txt\")\n",
    "#read the contents\n",
    "my_dna = my_file.read()\n",
    "#calcualate the length\n",
    "dna_length = len(my_dna)\n",
    "#print the output\n",
    "print (\"sequence is \" + my_dna + \"and the length is \" +str(dna_length))"
   ]
  },
  {
   "cell_type": "code",
   "execution_count": 31,
   "metadata": {},
   "outputs": [
    {
     "name": "stdout",
     "output_type": "stream",
     "text": [
      "Sequence is ATGCAGCTAGCTGACTGACTGCATGCATGCATGCATGCATGCGCAGCGTAAAAGATAGTATAAATTAGCATGCTAGCTAGCATGACTGACATGCATGCATGACATGCATGACTGCATGACTAGCATGCATGACTGACTAGCAGCATGCATGCATGCATGACTGCAGTGACTGCATGCGACCAGTGAGTCAGTACCTACCCCCCCCCCCCCCTATGACTGACTGACTGACGTATATGCACAAAAAAAAAAATGCATGCATGCTATACAGACTGAAAGTCATGACTAGCTAGCGCTACTGCTGCTGCTGCTGCTACGCATCCGTCTGCTGCAGTCCACACACACTATATAGAGAGAGCGCAGCAGCATGCAGCTATGCATGCTGCTGACTGACTGACTACTGAGCTACGATGAGCTGCTGCATGCTAGAGCTATGCTAGCTAGCTAGCACGATATCTACTGCATGATGCATGCCTGACTGACTGTAGCATGCATGACTCGAGTCACGTATGACTAGCATGCATGCATGCATGCATGCATGATGACATGCATGCATGCATGACTGACTACGTATCGATGCACGTACGTACGTACTGAGTCAGCTAGCTACGTACGTATGCATGCATGCAGCAGCACGCTGACTGACTGACTGATGCACTGACGTACTGACTGACGTATGACGCCCCCCCCCCGGGGGGGGGGGTTTTTTTTTTTAAAAAAAAAAAACGCATGCATGCGACGGGGGGGGGGGAGCTGCATGCTGCTGCCGCGCAGCAGCATATATATTAGACGACATGCATGACTAGCATGATATATGACTGCATGCTAGCATGCATGCTACGCATGATGCTAGCTATGC and the length is 857\n"
     ]
    }
   ],
   "source": [
    "my_file = open(\"dna.txt\")\n",
    "my_file_contents = my_file.read()\n",
    "my_dna = my_file_contents.replace (\"\\n\", \" \")\n",
    "dna_length = len(my_dna)\n",
    "print(\"Sequence is \" + my_dna + \"and the length is \" + str(dna_length))\n"
   ]
  },
  {
   "cell_type": "code",
   "execution_count": 33,
   "metadata": {},
   "outputs": [
    {
     "name": "stdout",
     "output_type": "stream",
     "text": [
      "Sequence is ATGCAGCTAGCTGACTGACTGCATGCATGCATGCATGCATGCGCAGCGTAAAAGATAGTATAAATTAGCATGCTAGCTAGCATGACTGACATGCATGCATGACATGCATGACTGCATGACTAGCATGCATGACTGACTAGCAGCATGCATGCATGCATGACTGCAGTGACTGCATGCGACCAGTGAGTCAGTACCTACCCCCCCCCCCCCCTATGACTGACTGACTGACGTATATGCACAAAAAAAAAAATGCATGCATGCTATACAGACTGAAAGTCATGACTAGCTAGCGCTACTGCTGCTGCTGCTGCTACGCATCCGTCTGCTGCAGTCCACACACACTATATAGAGAGAGCGCAGCAGCATGCAGCTATGCATGCTGCTGACTGACTGACTACTGAGCTACGATGAGCTGCTGCATGCTAGAGCTATGCTAGCTAGCTAGCACGATATCTACTGCATGATGCATGCCTGACTGACTGTAGCATGCATGACTCGAGTCACGTATGACTAGCATGCATGCATGCATGCATGCATGATGACATGCATGCATGCATGACTGACTACGTATCGATGCACGTACGTACGTACTGAGTCAGCTAGCTACGTACGTATGCATGCATGCAGCAGCACGCTGACTGACTGACTGATGCACTGACGTACTGACTGACGTATGACGCCCCCCCCCCGGGGGGGGGGGTTTTTTTTTTTAAAAAAAAAAAACGCATGCATGCGACGGGGGGGGGGGAGCTGCATGCTGCTGCCGCGCAGCAGCATATATATTAGACGACATGCATGACTAGCATGATATATGACTGCATGCTAGCATGCATGCTACGCATGATGCTAGCTATGC and the length is 856\n"
     ]
    }
   ],
   "source": [
    "my_file = open(\"dna.txt\")\n",
    "my_file_contents = my_file.read()\n",
    "my_dna = my_file_contents.rstrip(\"\\n\")\n",
    "dna_length = len(my_dna)\n",
    "print(\"Sequence is \" + my_dna + \" and the length is \" + str(dna_length))\n"
   ]
  },
  {
   "cell_type": "code",
   "execution_count": 34,
   "metadata": {
    "collapsed": true
   },
   "outputs": [],
   "source": [
    "my_dna = my_file.read().rstrip(\"\\n\")"
   ]
  },
  {
   "cell_type": "code",
   "execution_count": 35,
   "metadata": {},
   "outputs": [
    {
     "name": "stdout",
     "output_type": "stream",
     "text": [
      "\n"
     ]
    }
   ],
   "source": [
    "print(my_dna)\n"
   ]
  },
  {
   "cell_type": "code",
   "execution_count": 36,
   "metadata": {},
   "outputs": [
    {
     "name": "stdout",
     "output_type": "stream",
     "text": [
      "my_dna\n"
     ]
    }
   ],
   "source": [
    "print(\"my_dna\")"
   ]
  },
  {
   "cell_type": "code",
   "execution_count": 37,
   "metadata": {},
   "outputs": [
    {
     "ename": "FileNotFoundError",
     "evalue": "[Errno 2] No such file or directory: 'nonexistent.txt'",
     "output_type": "error",
     "traceback": [
      "\u001b[0;31m---------------------------------------------------------------------------\u001b[0m",
      "\u001b[0;31mFileNotFoundError\u001b[0m                         Traceback (most recent call last)",
      "\u001b[0;32m<ipython-input-37-0f5a58825b22>\u001b[0m in \u001b[0;36m<module>\u001b[0;34m()\u001b[0m\n\u001b[0;32m----> 1\u001b[0;31m \u001b[0mmy_file\u001b[0m \u001b[0;34m=\u001b[0m \u001b[0mopen\u001b[0m\u001b[0;34m(\u001b[0m\u001b[0;34m\"nonexistent.txt\"\u001b[0m\u001b[0;34m)\u001b[0m\u001b[0;34m\u001b[0m\u001b[0m\n\u001b[0m",
      "\u001b[0;31mFileNotFoundError\u001b[0m: [Errno 2] No such file or directory: 'nonexistent.txt'"
     ]
    }
   ],
   "source": [
    "my_file = open(\"nonexistent.txt\")"
   ]
  },
  {
   "cell_type": "code",
   "execution_count": 1,
   "metadata": {},
   "outputs": [
    {
     "name": "stdout",
     "output_type": "stream",
     "text": [
      "tTGCtGCTtGCTGtCTGtCTGCtTGCtTGCtTGCtTGCtTGCGCtGCGTttttGtTtGTtTtttTTtGCtTGCTtGCTtGCtTGtCTGtCtTGCtTGCtTGtCtTGCtTGtCTGCtTGtCTtGCtTGCtTGtCTGtCTtGCtGCtTGCtTGCtTGCtTGtCTGCtGTGtCTGCtTGCGtCCtGTGtGTCtGTtCCTtCCCCCCCCCCCCCCTtTGtCTGtCTGtCTGtCGTtTtTGCtCtttttttttttTGCtTGCtTGCTtTtCtGtCTGtttGTCtTGtCTtGCTtGCGCTtCTGCTGCTGCTGCTGCTtCGCtTCCGTCTGCTGCtGTCCtCtCtCtCTtTtTtGtGtGtGCGCtGCtGCtTGCtGCTtTGCtTGCTGCTGtCTGtCTGtCTtCTGtGCTtCGtTGtGCTGCTGCtTGCTtGtGCTtTGCTtGCTtGCTtGCtCGtTtTCTtCTGCtTGtTGCtTGCCTGtCTGtCTGTtGCtTGCtTGtCTCGtGTCtCGTtTGtCTtGCtTGCtTGCtTGCtTGCtTGCtTGtTGtCtTGCtTGCtTGCtTGtCTGtCTtCGTtTCGtTGCtCGTtCGTtCGTtCTGtGTCtGCTtGCTtCGTtCGTtTGCtTGCtTGCtGCtGCtCGCTGtCTGtCTGtCTGtTGCtCTGtCGTtCTGtCTGtCGTtTGtCGCCCCCCCCCCGGGGGGGGGGGTTTTTTTTTTTttttttttttttCGCtTGCtTGCGtCGGGGGGGGGGGtGCTGCtTGCTGCTGCCGCGCtGCtGCtTtTtTtTTtGtCGtCtTGCtTGtCTtGCtTGtTtTtTGtCTGCtTGCTtGCtTGCtTGCTtCGCtTGtTGCTtGCTtTGC\n",
      "\n",
      "taGCtGCatGCaGtCaGtCaGCtaGCtaGCtaGCtaGCtaGCGCtGCGattttGtatGatatttaatGCtaGCatGCatGCtaGtCaGtCtaGCtaGCtaGtCtaGCtaGtCaGCtaGtCatGCtaGCtaGtCaGtCatGCtGCtaGCtaGCtaGCtaGtCaGCtGaGtCaGCtaGCGtCCtGaGtGaCtGatCCatCCCCCCCCCCCCCCataGtCaGtCaGtCaGtCGatataGCtCtttttttttttaGCtaGCtaGCatatCtGtCaGtttGaCtaGtCatGCatGCGCatCaGCaGCaGCaGCaGCatCGCtaCCGaCaGCaGCtGaCCtCtCtCtCatatatGtGtGtGCGCtGCtGCtaGCtGCataGCtaGCaGCaGtCaGtCaGtCatCaGtGCatCGtaGtGCaGCaGCtaGCatGtGCataGCatGCatGCatGCtCGtataCatCaGCtaGtaGCtaGCCaGtCaGtCaGatGCtaGCtaGtCaCGtGaCtCGataGtCatGCtaGCtaGCtaGCtaGCtaGCtaGtaGtCtaGCtaGCtaGCtaGtCaGtCatCGataCGtaGCtCGatCGatCGatCaGtGaCtGCatGCatCGatCGataGCtaGCtaGCtGCtGCtCGCaGtCaGtCaGtCaGtaGCtCaGtCGatCaGtCaGtCGataGtCGCCCCCCCCCCGGGGGGGGGGGaaaaaaaaaaattttttttttttCGCtaGCtaGCGtCGGGGGGGGGGGtGCaGCtaGCaGCaGCCGCGCtGCtGCtatatataatGtCGtCtaGCtaGtCatGCtaGtatataGtCaGCtaGCatGCtaGCtaGCatCGCtaGtaGCatGCataGC\n",
      "\n",
      "tacCtcCatcCactCactCacCtacCtacCtacCtacCtacCcCtcCcattttctatcatatttaatcCtacCatcCatcCtactCactCtacCtacCtactCtacCtactCacCtactCatcCtacCtactCactCatcCtcCtacCtacCtacCtactCacCtcactCacCtacCctCCtcactcaCtcatCCatCCCCCCCCCCCCCCatactCactCactCactCcatatacCtCtttttttttttacCtacCtacCatatCtctCactttcaCtactCatcCatcCcCatCacCacCacCacCacCatCcCtaCCcaCacCacCtcaCCtCtCtCtCatatatctctctcCcCtcCtcCtacCtcCatacCtacCacCactCactCactCatCactcCatCctactcCacCacCtacCatctcCatacCatcCatcCatcCtCctataCatCacCtactacCtacCCactCactCacatcCtacCtactCaCctcaCtCcatactCatcCtacCtacCtacCtacCtacCtactactCtacCtacCtacCtactCactCatCcataCctacCtCcatCcatCcatCactcaCtcCatcCatCcatCcatacCtacCtacCtcCtcCtCcCactCactCactCactacCtCactCcatCactCactCcatactCcCCCCCCCCCCcccccccccccaaaaaaaaaaattttttttttttCcCtacCtacCctCccccccccccctcCacCtacCacCacCCcCcCtcCtcCtatatataatctCctCtacCtactCatcCtactatatactCacCtacCatcCtacCtacCatCcCtactacCatcCatacC\n",
      "\n",
      "tacgtcgatcgactgactgacgtacgtacgtacgtacgtacgcgtcgcattttctatcatatttaatcgtacgatcgatcgtactgactgtacgtacgtactgtacgtactgacgtactgatcgtacgtactgactgatcgtcgtacgtacgtacgtactgacgtcactgacgtacgctggtcactcagtcatggatggggggggggggggatactgactgactgactgcatatacgtgtttttttttttacgtacgtacgatatgtctgactttcagtactgatcgatcgcgatgacgacgacgacgacgatgcgtaggcagacgacgtcaggtgtgtgtgatatatctctctcgcgtcgtcgtacgtcgatacgtacgacgactgactgactgatgactcgatgctactcgacgacgtacgatctcgatacgatcgatcgatcgtgctatagatgacgtactacgtacggactgactgacatcgtacgtactgagctcagtgcatactgatcgtacgtacgtacgtacgtacgtactactgtacgtacgtacgtactgactgatgcatagctacgtgcatgcatgcatgactcagtcgatcgatgcatgcatacgtacgtacgtcgtcgtgcgactgactgactgactacgtgactgcatgactgactgcatactgcggggggggggcccccccccccaaaaaaaaaaattttttttttttgcgtacgtacgctgccccccccccctcgacgtacgacgacggcgcgtcgtcgtatatataatctgctgtacgtactgatcgtactatatactgacgtacgatcgtacgtacgatgcgtactacgatcgatacg\n",
      "\n",
      "TACGTCGATCGACTGACTGACGTACGTACGTACGTACGTACGCGTCGCATTTTCTATCATATTTAATCGTACGATCGATCGTACTGACTGTACGTACGTACTGTACGTACTGACGTACTGATCGTACGTACTGACTGATCGTCGTACGTACGTACGTACTGACGTCACTGACGTACGCTGGTCACTCAGTCATGGATGGGGGGGGGGGGGGATACTGACTGACTGACTGCATATACGTGTTTTTTTTTTTACGTACGTACGATATGTCTGACTTTCAGTACTGATCGATCGCGATGACGACGACGACGACGATGCGTAGGCAGACGACGTCAGGTGTGTGTGATATATCTCTCTCGCGTCGTCGTACGTCGATACGTACGACGACTGACTGACTGATGACTCGATGCTACTCGACGACGTACGATCTCGATACGATCGATCGATCGTGCTATAGATGACGTACTACGTACGGACTGACTGACATCGTACGTACTGAGCTCAGTGCATACTGATCGTACGTACGTACGTACGTACGTACTACTGTACGTACGTACGTACTGACTGATGCATAGCTACGTGCATGCATGCATGACTCAGTCGATCGATGCATGCATACGTACGTACGTCGTCGTGCGACTGACTGACTGACTACGTGACTGCATGACTGACTGCATACTGCGGGGGGGGGGCCCCCCCCCCCAAAAAAAAAAATTTTTTTTTTTTGCGTACGTACGCTGCCCCCCCCCCCTCGACGTACGACGACGGCGCGTCGTCGTATATATAATCTGCTGTACGTACTGATCGTACTATATACTGACGTACGATCGTACGTACGATGCGTACTACGATCGATACG\n",
      "\n",
      "TACGTCGATCGACTGACTGACGTACGTACGTACGTACGTACGCGTCGCATTTTCTATCATATTTAATCGTACGATCGATCGTACTGACTGTACGTACGTACTGTACGTACTGACGTACTGATCGTACGTACTGACTGATCGTCGTACGTACGTACGTACTGACGTCACTGACGTACGCTGGTCACTCAGTCATGGATGGGGGGGGGGGGGGATACTGACTGACTGACTGCATATACGTGTTTTTTTTTTTACGTACGTACGATATGTCTGACTTTCAGTACTGATCGATCGCGATGACGACGACGACGACGATGCGTAGGCAGACGACGTCAGGTGTGTGTGATATATCTCTCTCGCGTCGTCGTACGTCGATACGTACGACGACTGACTGACTGATGACTCGATGCTACTCGACGACGTACGATCTCGATACGATCGATCGATCGTGCTATAGATGACGTACTACGTACGGACTGACTGACATCGTACGTACTGAGCTCAGTGCATACTGATCGTACGTACGTACGTACGTACGTACTACTGTACGTACGTACGTACTGACTGATGCATAGCTACGTGCATGCATGCATGACTCAGTCGATCGATGCATGCATACGTACGTACGTCGTCGTGCGACTGACTGACTGACTACGTGACTGCATGACTGACTGCATACTGCGGGGGGGGGGCCCCCCCCCCCAAAAAAAAAAATTTTTTTTTTTTGCGTACGTACGCTGCCCCCCCCCCCTCGACGTACGACGACGGCGCGTCGTCGTATATATAATCTGCTGTACGTACTGATCGTACTATATACTGACGTACGATCGTACGTACGATGCGTACTACGATCGATACG\n",
      "\n"
     ]
    },
    {
     "ename": "TypeError",
     "evalue": "'NoneType' object is not subscriptable",
     "output_type": "error",
     "traceback": [
      "\u001b[0;31m---------------------------------------------------------------------------\u001b[0m",
      "\u001b[0;31mTypeError\u001b[0m                                 Traceback (most recent call last)",
      "\u001b[0;32m<ipython-input-1-58b846249b2b>\u001b[0m in \u001b[0;36m<module>\u001b[0;34m()\u001b[0m\n\u001b[1;32m     14\u001b[0m \u001b[0;31m#convert all the complements to capital\u001b[0m\u001b[0;34m\u001b[0m\u001b[0;34m\u001b[0m\u001b[0m\n\u001b[1;32m     15\u001b[0m \u001b[0mprint\u001b[0m\u001b[0;34m(\u001b[0m\u001b[0mreplacement4\u001b[0m\u001b[0;34m.\u001b[0m\u001b[0mupper\u001b[0m\u001b[0;34m(\u001b[0m\u001b[0;34m)\u001b[0m\u001b[0;34m)\u001b[0m\u001b[0;34m\u001b[0m\u001b[0m\n\u001b[0;32m---> 16\u001b[0;31m \u001b[0mprint\u001b[0m\u001b[0;34m(\u001b[0m\u001b[0mreplacement4\u001b[0m\u001b[0;34m.\u001b[0m\u001b[0mupper\u001b[0m\u001b[0;34m(\u001b[0m\u001b[0;34m)\u001b[0m\u001b[0;34m)\u001b[0m\u001b[0;34m[\u001b[0m\u001b[0;34m:\u001b[0m\u001b[0;34m:\u001b[0m\u001b[0;34m-\u001b[0m\u001b[0;36m1\u001b[0m\u001b[0;34m]\u001b[0m\u001b[0;34m\u001b[0m\u001b[0m\n\u001b[0m",
      "\u001b[0;31mTypeError\u001b[0m: 'NoneType' object is not subscriptable"
     ]
    }
   ],
   "source": [
    "#load the dna sequence\n",
    "my_dna = open(\"dna.txt\")\n",
    "#make the sequence a variable dnaseq\n",
    "dnaseq = my_dna.read()\n",
    "#replace the letters with their lower case complement all 4\n",
    "replacement1 = dnaseq.replace('A', 't')\n",
    "print(replacement1)\n",
    "replacement2 = replacement1.replace('T', 'a')\n",
    "print(replacement2)\n",
    "replacement3 = replacement2.replace('G', 'c')\n",
    "print(replacement3)\n",
    "replacement4 = replacement3.replace('C', 'g')\n",
    "print(replacement4)\n",
    "#convert all the complements to capital\n",
    "print(replacement4.upper())\n",
    "print(replacement4.upper())[::-1]\n"
   ]
  },
  {
   "cell_type": "code",
   "execution_count": 3,
   "metadata": {},
   "outputs": [
    {
     "name": "stdout",
     "output_type": "stream",
     "text": [
      "tTGCtGCTtGCTGtCTGtCTGCtTGCtTGCtTGCtTGCtTGCGCtGCGTttttGtTtGTtTtttTTtGCtTGCTtGCTtGCtTGtCTGtCtTGCtTGCtTGtCtTGCtTGtCTGCtTGtCTtGCtTGCtTGtCTGtCTtGCtGCtTGCtTGCtTGCtTGtCTGCtGTGtCTGCtTGCGtCCtGTGtGTCtGTtCCTtCCCCCCCCCCCCCCTtTGtCTGtCTGtCTGtCGTtTtTGCtCtttttttttttTGCtTGCtTGCTtTtCtGtCTGtttGTCtTGtCTtGCTtGCGCTtCTGCTGCTGCTGCTGCTtCGCtTCCGTCTGCTGCtGTCCtCtCtCtCTtTtTtGtGtGtGCGCtGCtGCtTGCtGCTtTGCtTGCTGCTGtCTGtCTGtCTtCTGtGCTtCGtTGtGCTGCTGCtTGCTtGtGCTtTGCTtGCTtGCTtGCtCGtTtTCTtCTGCtTGtTGCtTGCCTGtCTGtCTGTtGCtTGCtTGtCTCGtGTCtCGTtTGtCTtGCtTGCtTGCtTGCtTGCtTGCtTGtTGtCtTGCtTGCtTGCtTGtCTGtCTtCGTtTCGtTGCtCGTtCGTtCGTtCTGtGTCtGCTtGCTtCGTtCGTtTGCtTGCtTGCtGCtGCtCGCTGtCTGtCTGtCTGtTGCtCTGtCGTtCTGtCTGtCGTtTGtCGCCCCCCCCCCGGGGGGGGGGGTTTTTTTTTTTttttttttttttCGCtTGCtTGCGtCGGGGGGGGGGGtGCTGCtTGCTGCTGCCGCGCtGCtGCtTtTtTtTTtGtCGtCtTGCtTGtCTtGCtTGtTtTtTGtCTGCtTGCTtGCtTGCtTGCTtCGCtTGtTGCTtGCTtTGC\n",
      "\n",
      "taGCtGCatGCaGtCaGtCaGCtaGCtaGCtaGCtaGCtaGCGCtGCGattttGtatGatatttaatGCtaGCatGCatGCtaGtCaGtCtaGCtaGCtaGtCtaGCtaGtCaGCtaGtCatGCtaGCtaGtCaGtCatGCtGCtaGCtaGCtaGCtaGtCaGCtGaGtCaGCtaGCGtCCtGaGtGaCtGatCCatCCCCCCCCCCCCCCataGtCaGtCaGtCaGtCGatataGCtCtttttttttttaGCtaGCtaGCatatCtGtCaGtttGaCtaGtCatGCatGCGCatCaGCaGCaGCaGCaGCatCGCtaCCGaCaGCaGCtGaCCtCtCtCtCatatatGtGtGtGCGCtGCtGCtaGCtGCataGCtaGCaGCaGtCaGtCaGtCatCaGtGCatCGtaGtGCaGCaGCtaGCatGtGCataGCatGCatGCatGCtCGtataCatCaGCtaGtaGCtaGCCaGtCaGtCaGatGCtaGCtaGtCaCGtGaCtCGataGtCatGCtaGCtaGCtaGCtaGCtaGCtaGtaGtCtaGCtaGCtaGCtaGtCaGtCatCGataCGtaGCtCGatCGatCGatCaGtGaCtGCatGCatCGatCGataGCtaGCtaGCtGCtGCtCGCaGtCaGtCaGtCaGtaGCtCaGtCGatCaGtCaGtCGataGtCGCCCCCCCCCCGGGGGGGGGGGaaaaaaaaaaattttttttttttCGCtaGCtaGCGtCGGGGGGGGGGGtGCaGCtaGCaGCaGCCGCGCtGCtGCtatatataatGtCGtCtaGCtaGtCatGCtaGtatataGtCaGCtaGCatGCtaGCtaGCatCGCtaGtaGCatGCataGC\n",
      "\n",
      "tacCtcCatcCactCactCacCtacCtacCtacCtacCtacCcCtcCcattttctatcatatttaatcCtacCatcCatcCtactCactCtacCtacCtactCtacCtactCacCtactCatcCtacCtactCactCatcCtcCtacCtacCtacCtactCacCtcactCacCtacCctCCtcactcaCtcatCCatCCCCCCCCCCCCCCatactCactCactCactCcatatacCtCtttttttttttacCtacCtacCatatCtctCactttcaCtactCatcCatcCcCatCacCacCacCacCacCatCcCtaCCcaCacCacCtcaCCtCtCtCtCatatatctctctcCcCtcCtcCtacCtcCatacCtacCacCactCactCactCatCactcCatCctactcCacCacCtacCatctcCatacCatcCatcCatcCtCctataCatCacCtactacCtacCCactCactCacatcCtacCtactCaCctcaCtCcatactCatcCtacCtacCtacCtacCtacCtactactCtacCtacCtacCtactCactCatCcataCctacCtCcatCcatCcatCactcaCtcCatcCatCcatCcatacCtacCtacCtcCtcCtCcCactCactCactCactacCtCactCcatCactCactCcatactCcCCCCCCCCCCcccccccccccaaaaaaaaaaattttttttttttCcCtacCtacCctCccccccccccctcCacCtacCacCacCCcCcCtcCtcCtatatataatctCctCtacCtactCatcCtactatatactCacCtacCatcCtacCtacCatCcCtactacCatcCatacC\n",
      "\n",
      "tacgtcgatcgactgactgacgtacgtacgtacgtacgtacgcgtcgcattttctatcatatttaatcgtacgatcgatcgtactgactgtacgtacgtactgtacgtactgacgtactgatcgtacgtactgactgatcgtcgtacgtacgtacgtactgacgtcactgacgtacgctggtcactcagtcatggatggggggggggggggatactgactgactgactgcatatacgtgtttttttttttacgtacgtacgatatgtctgactttcagtactgatcgatcgcgatgacgacgacgacgacgatgcgtaggcagacgacgtcaggtgtgtgtgatatatctctctcgcgtcgtcgtacgtcgatacgtacgacgactgactgactgatgactcgatgctactcgacgacgtacgatctcgatacgatcgatcgatcgtgctatagatgacgtactacgtacggactgactgacatcgtacgtactgagctcagtgcatactgatcgtacgtacgtacgtacgtacgtactactgtacgtacgtacgtactgactgatgcatagctacgtgcatgcatgcatgactcagtcgatcgatgcatgcatacgtacgtacgtcgtcgtgcgactgactgactgactacgtgactgcatgactgactgcatactgcggggggggggcccccccccccaaaaaaaaaaattttttttttttgcgtacgtacgctgccccccccccctcgacgtacgacgacggcgcgtcgtcgtatatataatctgctgtacgtactgatcgtactatatactgacgtacgatcgtacgtacgatgcgtactacgatcgatacg\n",
      "\n",
      "TACGTCGATCGACTGACTGACGTACGTACGTACGTACGTACGCGTCGCATTTTCTATCATATTTAATCGTACGATCGATCGTACTGACTGTACGTACGTACTGTACGTACTGACGTACTGATCGTACGTACTGACTGATCGTCGTACGTACGTACGTACTGACGTCACTGACGTACGCTGGTCACTCAGTCATGGATGGGGGGGGGGGGGGATACTGACTGACTGACTGCATATACGTGTTTTTTTTTTTACGTACGTACGATATGTCTGACTTTCAGTACTGATCGATCGCGATGACGACGACGACGACGATGCGTAGGCAGACGACGTCAGGTGTGTGTGATATATCTCTCTCGCGTCGTCGTACGTCGATACGTACGACGACTGACTGACTGATGACTCGATGCTACTCGACGACGTACGATCTCGATACGATCGATCGATCGTGCTATAGATGACGTACTACGTACGGACTGACTGACATCGTACGTACTGAGCTCAGTGCATACTGATCGTACGTACGTACGTACGTACGTACTACTGTACGTACGTACGTACTGACTGATGCATAGCTACGTGCATGCATGCATGACTCAGTCGATCGATGCATGCATACGTACGTACGTCGTCGTGCGACTGACTGACTGACTACGTGACTGCATGACTGACTGCATACTGCGGGGGGGGGGCCCCCCCCCCCAAAAAAAAAAATTTTTTTTTTTTGCGTACGTACGCTGCCCCCCCCCCCTCGACGTACGACGACGGCGCGTCGTCGTATATATAATCTGCTGTACGTACTGATCGTACTATATACTGACGTACGATCGTACGTACGATGCGTACTACGATCGATACG\n",
      "\n",
      "TACGTCGATCGACTGACTGACGTACGTACGTACGTACGTACGCGTCGCATTTTCTATCATATTTAATCGTACGATCGATCGTACTGACTGTACGTACGTACTGTACGTACTGACGTACTGATCGTACGTACTGACTGATCGTCGTACGTACGTACGTACTGACGTCACTGACGTACGCTGGTCACTCAGTCATGGATGGGGGGGGGGGGGGATACTGACTGACTGACTGCATATACGTGTTTTTTTTTTTACGTACGTACGATATGTCTGACTTTCAGTACTGATCGATCGCGATGACGACGACGACGACGATGCGTAGGCAGACGACGTCAGGTGTGTGTGATATATCTCTCTCGCGTCGTCGTACGTCGATACGTACGACGACTGACTGACTGATGACTCGATGCTACTCGACGACGTACGATCTCGATACGATCGATCGATCGTGCTATAGATGACGTACTACGTACGGACTGACTGACATCGTACGTACTGAGCTCAGTGCATACTGATCGTACGTACGTACGTACGTACGTACTACTGTACGTACGTACGTACTGACTGATGCATAGCTACGTGCATGCATGCATGACTCAGTCGATCGATGCATGCATACGTACGTACGTCGTCGTGCGACTGACTGACTGACTACGTGACTGCATGACTGACTGCATACTGCGGGGGGGGGGCCCCCCCCCCCAAAAAAAAAAATTTTTTTTTTTTGCGTACGTACGCTGCCCCCCCCCCCTCGACGTACGACGACGGCGCGTCGTCGTATATATAATCTGCTGTACGTACTGATCGTACTATATACTGACGTACGATCGTACGTACGATGCGTACTACGATCGATACG\n",
      "\n"
     ]
    },
    {
     "data": {
      "text/plain": [
       "'tnemelpmoc'"
      ]
     },
     "execution_count": 3,
     "metadata": {},
     "output_type": "execute_result"
    }
   ],
   "source": [
    "#load the dna sequence\n",
    "my_dna = open(\"dna.txt\")\n",
    "#make the sequence a variable dnaseq\n",
    "dnaseq = my_dna.read()\n",
    "#replace the letters with their lower case complement all 4\n",
    "replacement1 = dnaseq.replace('A', 't')\n",
    "print(replacement1)\n",
    "replacement2 = replacement1.replace('T', 'a')\n",
    "print(replacement2)\n",
    "replacement3 = replacement2.replace('G', 'c')\n",
    "print(replacement3)\n",
    "replacement4 = replacement3.replace('C', 'g')\n",
    "print(replacement4)\n",
    "#convert all the complements to capital\n",
    "print(replacement4.upper())\n",
    "complement = print(replacement4.upper())\n",
    "'complement'[::-1]"
   ]
  },
  {
   "cell_type": "code",
   "execution_count": 8,
   "metadata": {},
   "outputs": [
    {
     "ename": "SyntaxError",
     "evalue": "invalid syntax (<ipython-input-8-8e12c765ffb2>, line 19)",
     "output_type": "error",
     "traceback": [
      "\u001b[0;36m  File \u001b[0;32m\"<ipython-input-8-8e12c765ffb2>\"\u001b[0;36m, line \u001b[0;32m19\u001b[0m\n\u001b[0;31m    replacement4.[reverse_slice]\u001b[0m\n\u001b[0m                 ^\u001b[0m\n\u001b[0;31mSyntaxError\u001b[0m\u001b[0;31m:\u001b[0m invalid syntax\n"
     ]
    }
   ],
   "source": [
    "#load the dna sequence\n",
    "my_dna = open(\"dna.txt\")\n",
    "#make the sequence a variable dnaseq\n",
    "dnaseq = my_dna.read()\n",
    "#replace the letters with their lower case complement all 4\n",
    "replacement1 = dnaseq.replace('A', 't')\n",
    "print(replacement1)\n",
    "replacement2 = replacement1.replace('T', 'a')\n",
    "print(replacement2)\n",
    "replacement3 = replacement2.replace('G', 'c')\n",
    "print(replacement3)\n",
    "replacement4 = replacement3.replace('C', 'g')\n",
    "print(replacement4)\n",
    "#convert all the complements to capital\n",
    "print(replacement4.upper())\n",
    "start = stop = None\n",
    "step = -1\n",
    "reverse_slice = slice(start, stop, step)\n",
    "replacement4.[reverse_slice]\n"
   ]
  },
  {
   "cell_type": "code",
   "execution_count": 10,
   "metadata": {},
   "outputs": [
    {
     "name": "stdout",
     "output_type": "stream",
     "text": [
      "tTGCtGCTtGCTGtCTGtCTGCtTGCtTGCtTGCtTGCtTGCGCtGCGTttttGtTtGTtTtttTTtGCtTGCTtGCTtGCtTGtCTGtCtTGCtTGCtTGtCtTGCtTGtCTGCtTGtCTtGCtTGCtTGtCTGtCTtGCtGCtTGCtTGCtTGCtTGtCTGCtGTGtCTGCtTGCGtCCtGTGtGTCtGTtCCTtCCCCCCCCCCCCCCTtTGtCTGtCTGtCTGtCGTtTtTGCtCtttttttttttTGCtTGCtTGCTtTtCtGtCTGtttGTCtTGtCTtGCTtGCGCTtCTGCTGCTGCTGCTGCTtCGCtTCCGTCTGCTGCtGTCCtCtCtCtCTtTtTtGtGtGtGCGCtGCtGCtTGCtGCTtTGCtTGCTGCTGtCTGtCTGtCTtCTGtGCTtCGtTGtGCTGCTGCtTGCTtGtGCTtTGCTtGCTtGCTtGCtCGtTtTCTtCTGCtTGtTGCtTGCCTGtCTGtCTGTtGCtTGCtTGtCTCGtGTCtCGTtTGtCTtGCtTGCtTGCtTGCtTGCtTGCtTGtTGtCtTGCtTGCtTGCtTGtCTGtCTtCGTtTCGtTGCtCGTtCGTtCGTtCTGtGTCtGCTtGCTtCGTtCGTtTGCtTGCtTGCtGCtGCtCGCTGtCTGtCTGtCTGtTGCtCTGtCGTtCTGtCTGtCGTtTGtCGCCCCCCCCCCGGGGGGGGGGGTTTTTTTTTTTttttttttttttCGCtTGCtTGCGtCGGGGGGGGGGGtGCTGCtTGCTGCTGCCGCGCtGCtGCtTtTtTtTTtGtCGtCtTGCtTGtCTtGCtTGtTtTtTGtCTGCtTGCTtGCtTGCtTGCTtCGCtTGtTGCTtGCTtTGC\n",
      "\n",
      "taGCtGCatGCaGtCaGtCaGCtaGCtaGCtaGCtaGCtaGCGCtGCGattttGtatGatatttaatGCtaGCatGCatGCtaGtCaGtCtaGCtaGCtaGtCtaGCtaGtCaGCtaGtCatGCtaGCtaGtCaGtCatGCtGCtaGCtaGCtaGCtaGtCaGCtGaGtCaGCtaGCGtCCtGaGtGaCtGatCCatCCCCCCCCCCCCCCataGtCaGtCaGtCaGtCGatataGCtCtttttttttttaGCtaGCtaGCatatCtGtCaGtttGaCtaGtCatGCatGCGCatCaGCaGCaGCaGCaGCatCGCtaCCGaCaGCaGCtGaCCtCtCtCtCatatatGtGtGtGCGCtGCtGCtaGCtGCataGCtaGCaGCaGtCaGtCaGtCatCaGtGCatCGtaGtGCaGCaGCtaGCatGtGCataGCatGCatGCatGCtCGtataCatCaGCtaGtaGCtaGCCaGtCaGtCaGatGCtaGCtaGtCaCGtGaCtCGataGtCatGCtaGCtaGCtaGCtaGCtaGCtaGtaGtCtaGCtaGCtaGCtaGtCaGtCatCGataCGtaGCtCGatCGatCGatCaGtGaCtGCatGCatCGatCGataGCtaGCtaGCtGCtGCtCGCaGtCaGtCaGtCaGtaGCtCaGtCGatCaGtCaGtCGataGtCGCCCCCCCCCCGGGGGGGGGGGaaaaaaaaaaattttttttttttCGCtaGCtaGCGtCGGGGGGGGGGGtGCaGCtaGCaGCaGCCGCGCtGCtGCtatatataatGtCGtCtaGCtaGtCatGCtaGtatataGtCaGCtaGCatGCtaGCtaGCatCGCtaGtaGCatGCataGC\n",
      "\n",
      "tacCtcCatcCactCactCacCtacCtacCtacCtacCtacCcCtcCcattttctatcatatttaatcCtacCatcCatcCtactCactCtacCtacCtactCtacCtactCacCtactCatcCtacCtactCactCatcCtcCtacCtacCtacCtactCacCtcactCacCtacCctCCtcactcaCtcatCCatCCCCCCCCCCCCCCatactCactCactCactCcatatacCtCtttttttttttacCtacCtacCatatCtctCactttcaCtactCatcCatcCcCatCacCacCacCacCacCatCcCtaCCcaCacCacCtcaCCtCtCtCtCatatatctctctcCcCtcCtcCtacCtcCatacCtacCacCactCactCactCatCactcCatCctactcCacCacCtacCatctcCatacCatcCatcCatcCtCctataCatCacCtactacCtacCCactCactCacatcCtacCtactCaCctcaCtCcatactCatcCtacCtacCtacCtacCtacCtactactCtacCtacCtacCtactCactCatCcataCctacCtCcatCcatCcatCactcaCtcCatcCatCcatCcatacCtacCtacCtcCtcCtCcCactCactCactCactacCtCactCcatCactCactCcatactCcCCCCCCCCCCcccccccccccaaaaaaaaaaattttttttttttCcCtacCtacCctCccccccccccctcCacCtacCacCacCCcCcCtcCtcCtatatataatctCctCtacCtactCatcCtactatatactCacCtacCatcCtacCtacCatCcCtactacCatcCatacC\n",
      "\n",
      "tacgtcgatcgactgactgacgtacgtacgtacgtacgtacgcgtcgcattttctatcatatttaatcgtacgatcgatcgtactgactgtacgtacgtactgtacgtactgacgtactgatcgtacgtactgactgatcgtcgtacgtacgtacgtactgacgtcactgacgtacgctggtcactcagtcatggatggggggggggggggatactgactgactgactgcatatacgtgtttttttttttacgtacgtacgatatgtctgactttcagtactgatcgatcgcgatgacgacgacgacgacgatgcgtaggcagacgacgtcaggtgtgtgtgatatatctctctcgcgtcgtcgtacgtcgatacgtacgacgactgactgactgatgactcgatgctactcgacgacgtacgatctcgatacgatcgatcgatcgtgctatagatgacgtactacgtacggactgactgacatcgtacgtactgagctcagtgcatactgatcgtacgtacgtacgtacgtacgtactactgtacgtacgtacgtactgactgatgcatagctacgtgcatgcatgcatgactcagtcgatcgatgcatgcatacgtacgtacgtcgtcgtgcgactgactgactgactacgtgactgcatgactgactgcatactgcggggggggggcccccccccccaaaaaaaaaaattttttttttttgcgtacgtacgctgccccccccccctcgacgtacgacgacggcgcgtcgtcgtatatataatctgctgtacgtactgatcgtactatatactgacgtacgatcgtacgtacgatgcgtactacgatcgatacg\n",
      "\n",
      "TACGTCGATCGACTGACTGACGTACGTACGTACGTACGTACGCGTCGCATTTTCTATCATATTTAATCGTACGATCGATCGTACTGACTGTACGTACGTACTGTACGTACTGACGTACTGATCGTACGTACTGACTGATCGTCGTACGTACGTACGTACTGACGTCACTGACGTACGCTGGTCACTCAGTCATGGATGGGGGGGGGGGGGGATACTGACTGACTGACTGCATATACGTGTTTTTTTTTTTACGTACGTACGATATGTCTGACTTTCAGTACTGATCGATCGCGATGACGACGACGACGACGATGCGTAGGCAGACGACGTCAGGTGTGTGTGATATATCTCTCTCGCGTCGTCGTACGTCGATACGTACGACGACTGACTGACTGATGACTCGATGCTACTCGACGACGTACGATCTCGATACGATCGATCGATCGTGCTATAGATGACGTACTACGTACGGACTGACTGACATCGTACGTACTGAGCTCAGTGCATACTGATCGTACGTACGTACGTACGTACGTACTACTGTACGTACGTACGTACTGACTGATGCATAGCTACGTGCATGCATGCATGACTCAGTCGATCGATGCATGCATACGTACGTACGTCGTCGTGCGACTGACTGACTGACTACGTGACTGCATGACTGACTGCATACTGCGGGGGGGGGGCCCCCCCCCCCAAAAAAAAAAATTTTTTTTTTTTGCGTACGTACGCTGCCCCCCCCCCCTCGACGTACGACGACGGCGCGTCGTCGTATATATAATCTGCTGTACGTACTGATCGTACTATATACTGACGTACGATCGTACGTACGATGCGTACTACGATCGATACG\n",
      "\n"
     ]
    },
    {
     "ename": "AttributeError",
     "evalue": "'builtin_function_or_method' object has no attribute 'read'",
     "output_type": "error",
     "traceback": [
      "\u001b[0;31m---------------------------------------------------------------------------\u001b[0m",
      "\u001b[0;31mAttributeError\u001b[0m                            Traceback (most recent call last)",
      "\u001b[0;32m<ipython-input-10-0cbb11594e85>\u001b[0m in \u001b[0;36m<module>\u001b[0;34m()\u001b[0m\n\u001b[1;32m     14\u001b[0m \u001b[0;31m#convert all the complements to capital\u001b[0m\u001b[0;34m\u001b[0m\u001b[0;34m\u001b[0m\u001b[0m\n\u001b[1;32m     15\u001b[0m \u001b[0mprint\u001b[0m\u001b[0;34m(\u001b[0m\u001b[0mreplacement4\u001b[0m\u001b[0;34m.\u001b[0m\u001b[0mupper\u001b[0m\u001b[0;34m(\u001b[0m\u001b[0;34m)\u001b[0m\u001b[0;34m)\u001b[0m\u001b[0;34m\u001b[0m\u001b[0m\n\u001b[0;32m---> 16\u001b[0;31m \u001b[0mcomplement\u001b[0m \u001b[0;34m=\u001b[0m \u001b[0mreplacement4\u001b[0m\u001b[0;34m.\u001b[0m\u001b[0mupper\u001b[0m\u001b[0;34m.\u001b[0m\u001b[0mread\u001b[0m\u001b[0;34m(\u001b[0m\u001b[0;34m)\u001b[0m\u001b[0;34m\u001b[0m\u001b[0m\n\u001b[0m\u001b[1;32m     17\u001b[0m \u001b[0mreverse\u001b[0m \u001b[0;34m=\u001b[0m \u001b[0mcomplement\u001b[0m\u001b[0;34m[\u001b[0m\u001b[0;34m:\u001b[0m\u001b[0;34m:\u001b[0m\u001b[0;34m-\u001b[0m\u001b[0;36m1\u001b[0m\u001b[0;34m]\u001b[0m\u001b[0;34m\u001b[0m\u001b[0m\n\u001b[1;32m     18\u001b[0m \u001b[0mprint\u001b[0m \u001b[0;34m(\u001b[0m\u001b[0mbackwards\u001b[0m\u001b[0;34m)\u001b[0m\u001b[0;34m\u001b[0m\u001b[0m\n",
      "\u001b[0;31mAttributeError\u001b[0m: 'builtin_function_or_method' object has no attribute 'read'"
     ]
    }
   ],
   "source": [
    "#load the dna sequence\n",
    "my_dna = open(\"dna.txt\")\n",
    "#make the sequence a variable dnaseq\n",
    "dnaseq = my_dna.read()\n",
    "#replace the letters with their lower case complement all 4\n",
    "replacement1 = dnaseq.replace('A', 't')\n",
    "print(replacement1)\n",
    "replacement2 = replacement1.replace('T', 'a')\n",
    "print(replacement2)\n",
    "replacement3 = replacement2.replace('G', 'c')\n",
    "print(replacement3)\n",
    "replacement4 = replacement3.replace('C', 'g')\n",
    "print(replacement4)\n",
    "#convert all the complements to capital\n",
    "print(replacement4.upper())\n",
    "complement = replacement4.upper.read()\n",
    "reverse = complement[::-1]\n",
    "print (backwards)\n"
   ]
  },
  {
   "cell_type": "code",
   "execution_count": 12,
   "metadata": {},
   "outputs": [
    {
     "name": "stdout",
     "output_type": "stream",
     "text": [
      "tTGCtGCTtGCTGtCTGtCTGCtTGCtTGCtTGCtTGCtTGCGCtGCGTttttGtTtGTtTtttTTtGCtTGCTtGCTtGCtTGtCTGtCtTGCtTGCtTGtCtTGCtTGtCTGCtTGtCTtGCtTGCtTGtCTGtCTtGCtGCtTGCtTGCtTGCtTGtCTGCtGTGtCTGCtTGCGtCCtGTGtGTCtGTtCCTtCCCCCCCCCCCCCCTtTGtCTGtCTGtCTGtCGTtTtTGCtCtttttttttttTGCtTGCtTGCTtTtCtGtCTGtttGTCtTGtCTtGCTtGCGCTtCTGCTGCTGCTGCTGCTtCGCtTCCGTCTGCTGCtGTCCtCtCtCtCTtTtTtGtGtGtGCGCtGCtGCtTGCtGCTtTGCtTGCTGCTGtCTGtCTGtCTtCTGtGCTtCGtTGtGCTGCTGCtTGCTtGtGCTtTGCTtGCTtGCTtGCtCGtTtTCTtCTGCtTGtTGCtTGCCTGtCTGtCTGTtGCtTGCtTGtCTCGtGTCtCGTtTGtCTtGCtTGCtTGCtTGCtTGCtTGCtTGtTGtCtTGCtTGCtTGCtTGtCTGtCTtCGTtTCGtTGCtCGTtCGTtCGTtCTGtGTCtGCTtGCTtCGTtCGTtTGCtTGCtTGCtGCtGCtCGCTGtCTGtCTGtCTGtTGCtCTGtCGTtCTGtCTGtCGTtTGtCGCCCCCCCCCCGGGGGGGGGGGTTTTTTTTTTTttttttttttttCGCtTGCtTGCGtCGGGGGGGGGGGtGCTGCtTGCTGCTGCCGCGCtGCtGCtTtTtTtTTtGtCGtCtTGCtTGtCTtGCtTGtTtTtTGtCTGCtTGCTtGCtTGCtTGCTtCGCtTGtTGCTtGCTtTGC\n",
      "\n",
      "taGCtGCatGCaGtCaGtCaGCtaGCtaGCtaGCtaGCtaGCGCtGCGattttGtatGatatttaatGCtaGCatGCatGCtaGtCaGtCtaGCtaGCtaGtCtaGCtaGtCaGCtaGtCatGCtaGCtaGtCaGtCatGCtGCtaGCtaGCtaGCtaGtCaGCtGaGtCaGCtaGCGtCCtGaGtGaCtGatCCatCCCCCCCCCCCCCCataGtCaGtCaGtCaGtCGatataGCtCtttttttttttaGCtaGCtaGCatatCtGtCaGtttGaCtaGtCatGCatGCGCatCaGCaGCaGCaGCaGCatCGCtaCCGaCaGCaGCtGaCCtCtCtCtCatatatGtGtGtGCGCtGCtGCtaGCtGCataGCtaGCaGCaGtCaGtCaGtCatCaGtGCatCGtaGtGCaGCaGCtaGCatGtGCataGCatGCatGCatGCtCGtataCatCaGCtaGtaGCtaGCCaGtCaGtCaGatGCtaGCtaGtCaCGtGaCtCGataGtCatGCtaGCtaGCtaGCtaGCtaGCtaGtaGtCtaGCtaGCtaGCtaGtCaGtCatCGataCGtaGCtCGatCGatCGatCaGtGaCtGCatGCatCGatCGataGCtaGCtaGCtGCtGCtCGCaGtCaGtCaGtCaGtaGCtCaGtCGatCaGtCaGtCGataGtCGCCCCCCCCCCGGGGGGGGGGGaaaaaaaaaaattttttttttttCGCtaGCtaGCGtCGGGGGGGGGGGtGCaGCtaGCaGCaGCCGCGCtGCtGCtatatataatGtCGtCtaGCtaGtCatGCtaGtatataGtCaGCtaGCatGCtaGCtaGCatCGCtaGtaGCatGCataGC\n",
      "\n",
      "tacCtcCatcCactCactCacCtacCtacCtacCtacCtacCcCtcCcattttctatcatatttaatcCtacCatcCatcCtactCactCtacCtacCtactCtacCtactCacCtactCatcCtacCtactCactCatcCtcCtacCtacCtacCtactCacCtcactCacCtacCctCCtcactcaCtcatCCatCCCCCCCCCCCCCCatactCactCactCactCcatatacCtCtttttttttttacCtacCtacCatatCtctCactttcaCtactCatcCatcCcCatCacCacCacCacCacCatCcCtaCCcaCacCacCtcaCCtCtCtCtCatatatctctctcCcCtcCtcCtacCtcCatacCtacCacCactCactCactCatCactcCatCctactcCacCacCtacCatctcCatacCatcCatcCatcCtCctataCatCacCtactacCtacCCactCactCacatcCtacCtactCaCctcaCtCcatactCatcCtacCtacCtacCtacCtacCtactactCtacCtacCtacCtactCactCatCcataCctacCtCcatCcatCcatCactcaCtcCatcCatCcatCcatacCtacCtacCtcCtcCtCcCactCactCactCactacCtCactCcatCactCactCcatactCcCCCCCCCCCCcccccccccccaaaaaaaaaaattttttttttttCcCtacCtacCctCccccccccccctcCacCtacCacCacCCcCcCtcCtcCtatatataatctCctCtacCtactCatcCtactatatactCacCtacCatcCtacCtacCatCcCtactacCatcCatacC\n",
      "\n",
      "tacgtcgatcgactgactgacgtacgtacgtacgtacgtacgcgtcgcattttctatcatatttaatcgtacgatcgatcgtactgactgtacgtacgtactgtacgtactgacgtactgatcgtacgtactgactgatcgtcgtacgtacgtacgtactgacgtcactgacgtacgctggtcactcagtcatggatggggggggggggggatactgactgactgactgcatatacgtgtttttttttttacgtacgtacgatatgtctgactttcagtactgatcgatcgcgatgacgacgacgacgacgatgcgtaggcagacgacgtcaggtgtgtgtgatatatctctctcgcgtcgtcgtacgtcgatacgtacgacgactgactgactgatgactcgatgctactcgacgacgtacgatctcgatacgatcgatcgatcgtgctatagatgacgtactacgtacggactgactgacatcgtacgtactgagctcagtgcatactgatcgtacgtacgtacgtacgtacgtactactgtacgtacgtacgtactgactgatgcatagctacgtgcatgcatgcatgactcagtcgatcgatgcatgcatacgtacgtacgtcgtcgtgcgactgactgactgactacgtgactgcatgactgactgcatactgcggggggggggcccccccccccaaaaaaaaaaattttttttttttgcgtacgtacgctgccccccccccctcgacgtacgacgacggcgcgtcgtcgtatatataatctgctgtacgtactgatcgtactatatactgacgtacgatcgtacgtacgatgcgtactacgatcgatacg\n",
      "\n",
      "TACGTCGATCGACTGACTGACGTACGTACGTACGTACGTACGCGTCGCATTTTCTATCATATTTAATCGTACGATCGATCGTACTGACTGTACGTACGTACTGTACGTACTGACGTACTGATCGTACGTACTGACTGATCGTCGTACGTACGTACGTACTGACGTCACTGACGTACGCTGGTCACTCAGTCATGGATGGGGGGGGGGGGGGATACTGACTGACTGACTGCATATACGTGTTTTTTTTTTTACGTACGTACGATATGTCTGACTTTCAGTACTGATCGATCGCGATGACGACGACGACGACGATGCGTAGGCAGACGACGTCAGGTGTGTGTGATATATCTCTCTCGCGTCGTCGTACGTCGATACGTACGACGACTGACTGACTGATGACTCGATGCTACTCGACGACGTACGATCTCGATACGATCGATCGATCGTGCTATAGATGACGTACTACGTACGGACTGACTGACATCGTACGTACTGAGCTCAGTGCATACTGATCGTACGTACGTACGTACGTACGTACTACTGTACGTACGTACGTACTGACTGATGCATAGCTACGTGCATGCATGCATGACTCAGTCGATCGATGCATGCATACGTACGTACGTCGTCGTGCGACTGACTGACTGACTACGTGACTGCATGACTGACTGCATACTGCGGGGGGGGGGCCCCCCCCCCCAAAAAAAAAAATTTTTTTTTTTTGCGTACGTACGCTGCCCCCCCCCCCTCGACGTACGACGACGGCGCGTCGTCGTATATATAATCTGCTGTACGTACTGATCGTACTATATACTGACGTACGATCGTACGTACGATGCGTACTACGATCGATACG\n",
      "\n"
     ]
    }
   ],
   "source": [
    "#load the dna sequence\n",
    "my_dna = open(\"dna.txt\")\n",
    "#make the sequence a variable dnaseq\n",
    "dnaseq = my_dna.read()\n",
    "#replace the letters with their lower case complement all 4\n",
    "replacement1 = dnaseq.replace('A', 't')\n",
    "print(replacement1)\n",
    "replacement2 = replacement1.replace('T', 'a')\n",
    "print(replacement2)\n",
    "replacement3 = replacement2.replace('G', 'c')\n",
    "print(replacement3)\n",
    "replacement4 = replacement3.replace('C', 'g')\n",
    "print(replacement4)\n",
    "#convert all the complements to capital\n",
    "print(replacement4.upper())\n",
    "complement = replacement4.upper\n",
    "#reverse = complement[::-1]"
   ]
  },
  {
   "cell_type": "code",
   "execution_count": 13,
   "metadata": {},
   "outputs": [
    {
     "name": "stdout",
     "output_type": "stream",
     "text": [
      "<built-in method upper of str object at 0x7fffe7bf0510>\n"
     ]
    }
   ],
   "source": [
    "print(complement)"
   ]
  },
  {
   "cell_type": "code",
   "execution_count": 1,
   "metadata": {},
   "outputs": [
    {
     "data": {
      "text/plain": [
       "11"
      ]
     },
     "execution_count": 1,
     "metadata": {},
     "output_type": "execute_result"
    }
   ],
   "source": [
    "my_file = open(\"out.txt\", \"w\")\n",
    "my_file.write(\"Hello world\")"
   ]
  },
  {
   "cell_type": "code",
   "execution_count": 2,
   "metadata": {
    "scrolled": true
   },
   "outputs": [
    {
     "ename": "NameError",
     "evalue": "name 'my_variable' is not defined",
     "output_type": "error",
     "traceback": [
      "\u001b[0;31m---------------------------------------------------------------------------\u001b[0m",
      "\u001b[0;31mNameError\u001b[0m                                 Traceback (most recent call last)",
      "\u001b[0;32m<ipython-input-2-e79b6873cdac>\u001b[0m in \u001b[0;36m<module>\u001b[0;34m()\u001b[0m\n\u001b[1;32m      8\u001b[0m \u001b[0mmy_file\u001b[0m\u001b[0;34m.\u001b[0m\u001b[0mwrite\u001b[0m\u001b[0;34m(\u001b[0m\u001b[0;34m\"ATGC\"\u001b[0m\u001b[0;34m.\u001b[0m\u001b[0mlower\u001b[0m\u001b[0;34m(\u001b[0m\u001b[0;34m)\u001b[0m\u001b[0;34m)\u001b[0m\u001b[0;34m\u001b[0m\u001b[0m\n\u001b[1;32m      9\u001b[0m \u001b[0;31m#write contents of my_variable\u001b[0m\u001b[0;34m\u001b[0m\u001b[0;34m\u001b[0m\u001b[0m\n\u001b[0;32m---> 10\u001b[0;31m \u001b[0mmy_file\u001b[0m\u001b[0;34m.\u001b[0m\u001b[0mwrite\u001b[0m\u001b[0;34m(\u001b[0m\u001b[0mmy_variable\u001b[0m\u001b[0;34m)\u001b[0m\u001b[0;34m\u001b[0m\u001b[0m\n\u001b[0m",
      "\u001b[0;31mNameError\u001b[0m: name 'my_variable' is not defined"
     ]
    }
   ],
   "source": [
    "#write \"abcdef\"\n",
    "my_file.write(\"abc\" + \"def\")\n",
    "#write \"8\"\n",
    "my_file.write(str(len('AGTGCTAG')))\n",
    "#write \"TTGC\"\n",
    "my_file.write(\"ATGC\".replace('A','T'))\n",
    "#write 'atgc'\n",
    "my_file.write(\"ATGC\".lower())\n",
    "#write contents of my_variable\n",
    "my_file.write(my_variable)\n"
   ]
  },
  {
   "cell_type": "code",
   "execution_count": 3,
   "metadata": {
    "collapsed": true
   },
   "outputs": [],
   "source": [
    "my_file = open('out.txt', \"w\")\n",
    "my_file.write('Hello world')\n",
    "#remember to close the file\n",
    "my_file.close()"
   ]
  },
  {
   "cell_type": "code",
   "execution_count": null,
   "metadata": {
    "collapsed": true
   },
   "outputs": [],
   "source": []
  }
 ],
 "metadata": {
  "kernelspec": {
   "display_name": "Python 3",
   "language": "python",
   "name": "python3"
  },
  "language_info": {
   "codemirror_mode": {
    "name": "ipython",
    "version": 3
   },
   "file_extension": ".py",
   "mimetype": "text/x-python",
   "name": "python",
   "nbconvert_exporter": "python",
   "pygments_lexer": "ipython3",
   "version": "3.6.3"
  }
 },
 "nbformat": 4,
 "nbformat_minor": 2
}
