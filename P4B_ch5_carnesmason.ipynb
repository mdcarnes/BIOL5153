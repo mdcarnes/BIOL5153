{
 "cells": [
  {
   "cell_type": "code",
   "execution_count": 1,
   "metadata": {},
   "outputs": [
    {
     "name": "stdout",
     "output_type": "stream",
     "text": [
      "AT content is 0.6851851851851852\n"
     ]
    }
   ],
   "source": [
    "my_dna = \"ACTGATCGATTACGTATAGTATTTGCTATCATACATATATATCGATGCGTTCAT\" \n",
    "length = len(my_dna) \n",
    "a_count = my_dna.count('A') \n",
    "t_count = my_dna.count('T') \n",
    "at_content = (a_count + t_count) / length \n",
    "print(\"AT content is \" + str(at_content)) "
   ]
  },
  {
   "cell_type": "code",
   "execution_count": 5,
   "metadata": {
    "collapsed": true
   },
   "outputs": [],
   "source": [
    "my_dna = \"ACTGATCGATTACGTATAGTATTTGCTATCATACATATATATCGATGCGTTCAT\" \n",
    "\n",
    "def get_at_content(dna):\n",
    "    length = len(my_dna) \n",
    "    a_count = my_dna.count('A') \n",
    "    t_count = my_dna.count('T') \n",
    "    at_content = (a_count + t_count) / length \n",
    "    return at_content"
   ]
  },
  {
   "cell_type": "code",
   "execution_count": 6,
   "metadata": {},
   "outputs": [
    {
     "data": {
      "text/plain": [
       "0.6851851851851852"
      ]
     },
     "execution_count": 6,
     "metadata": {},
     "output_type": "execute_result"
    }
   ],
   "source": [
    "get_at_content(\"ATGACTGGACCA\")"
   ]
  },
  {
   "cell_type": "code",
   "execution_count": 7,
   "metadata": {
    "collapsed": true
   },
   "outputs": [],
   "source": [
    "at_content = get_at_content(\"ATGACTGGACCA\")"
   ]
  },
  {
   "cell_type": "code",
   "execution_count": 8,
   "metadata": {},
   "outputs": [
    {
     "name": "stdout",
     "output_type": "stream",
     "text": [
      "AT content is 0.6851851851851852\n"
     ]
    }
   ],
   "source": [
    "print (\"AT content is \" + str(get_at_content(\"ATGACTGGACCA\")))"
   ]
  },
  {
   "cell_type": "code",
   "execution_count": 9,
   "metadata": {},
   "outputs": [
    {
     "name": "stdout",
     "output_type": "stream",
     "text": [
      "16\n"
     ]
    }
   ],
   "source": [
    "def get_at_content(dna):\n",
    "    length = len(my_dna) \n",
    "    a_count = my_dna.count('A') \n",
    "    t_count = my_dna.count('T') \n",
    "    at_content = (a_count + t_count) / length \n",
    "    return at_content\n",
    "\n",
    "print(a_count)"
   ]
  },
  {
   "cell_type": "code",
   "execution_count": 10,
   "metadata": {},
   "outputs": [
    {
     "name": "stdout",
     "output_type": "stream",
     "text": [
      "0.45\n",
      "0.5294117647058824\n",
      "0.0\n"
     ]
    }
   ],
   "source": [
    "def get_at_content(dna):     \n",
    "    length = len(dna)     \n",
    "    a_count = dna.count('A')     \n",
    "    t_count = dna.count('T')     \n",
    "    at_content = (a_count + t_count) / length     \n",
    "    return at_content \n",
    "\n",
    "my_at_content = get_at_content(\"ATGCGCGATCGATCGAATCG\") \n",
    "print(str(my_at_content)) \n",
    "print(get_at_content(\"ATGCATGCAACTGTAGC\")) \n",
    "print(get_at_content(\"aactgtagctagctagcagcgta\"))"
   ]
  },
  {
   "cell_type": "code",
   "execution_count": 11,
   "metadata": {},
   "outputs": [
    {
     "name": "stdout",
     "output_type": "stream",
     "text": [
      "0.45\n",
      "0.53\n",
      "0.52\n"
     ]
    }
   ],
   "source": [
    "def get_at_content(dna):     \n",
    "    length = len(dna)     \n",
    "    a_count = dna.upper().count('A')     \n",
    "    t_count = dna.upper().count('T')     \n",
    "    at_content = (a_count + t_count) / length     \n",
    "    return round(at_content, 2)\n",
    "\n",
    "my_at_content = get_at_content(\"ATGCGCGATCGATCGAATCG\") \n",
    "print(str(my_at_content)) \n",
    "print(get_at_content(\"ATGCATGCAACTGTAGC\")) \n",
    "print(get_at_content(\"aactgtagctagctagcagcgta\"))"
   ]
  },
  {
   "cell_type": "code",
   "execution_count": 18,
   "metadata": {},
   "outputs": [
    {
     "name": "stdout",
     "output_type": "stream",
     "text": [
      "0.5\n",
      "0.53\n",
      "0.529\n"
     ]
    }
   ],
   "source": [
    "def get_at_content(dna, sig_figs):\n",
    "    length = len(dna)     \n",
    "    a_count = dna.upper().count('A')     \n",
    "    t_count = dna.upper().count('T')     \n",
    "    at_content = (a_count + t_count) / length     \n",
    "    return round(at_content, sig_figs) \n",
    "\n",
    "test_dna = \"ATGCATGCAACTGTAGC\" \n",
    "print(get_at_content(test_dna, 1)) \n",
    "print(get_at_content(test_dna, 2)) \n",
    "print(get_at_content(test_dna, 3))"
   ]
  },
  {
   "cell_type": "code",
   "execution_count": 13,
   "metadata": {
    "collapsed": true
   },
   "outputs": [],
   "source": [
    "def get_at_content():\n",
    "    dna = \"ACTGATGCTAGCTA\" \n",
    "    length = len(dna) \n",
    "    a_count = dna.upper().count('A') \n",
    "    t_count = dna.upper().count('T') \n",
    "    at_content = (a_count + t_count) / length \n",
    "    return round(at_content, 2) "
   ]
  },
  {
   "cell_type": "code",
   "execution_count": 14,
   "metadata": {},
   "outputs": [
    {
     "name": "stdout",
     "output_type": "stream",
     "text": [
      "0.57\n"
     ]
    }
   ],
   "source": [
    "def get_at_content():\n",
    "    dna = \"ACTGATGCTAGCTA\" \n",
    "    length = len(dna) \n",
    "    a_count = dna.upper().count('A') \n",
    "    t_count = dna.upper().count('T') \n",
    "    at_content = (a_count + t_count) / length \n",
    "    return round(at_content, 2) \n",
    "\n",
    "dna = \"ACTGATCGATCG\"\n",
    "print(get_at_content())"
   ]
  },
  {
   "cell_type": "code",
   "execution_count": 15,
   "metadata": {
    "collapsed": true
   },
   "outputs": [],
   "source": [
    "def print_at_content(dna):\n",
    "    length = len(dna) \n",
    "    a_count = dna.upper().count('A') \n",
    "    t_count = dna.upper().count('T') \n",
    "    at_content = (a_count + t_count) / length \n",
    "    print(str(round(at_content, 2)))"
   ]
  },
  {
   "cell_type": "code",
   "execution_count": 19,
   "metadata": {},
   "outputs": [
    {
     "data": {
      "text/plain": [
       "0.45"
      ]
     },
     "execution_count": 19,
     "metadata": {},
     "output_type": "execute_result"
    }
   ],
   "source": [
    "get_at_content(\"ATCGTGACTCG\", 2)\n"
   ]
  },
  {
   "cell_type": "code",
   "execution_count": 20,
   "metadata": {},
   "outputs": [
    {
     "data": {
      "text/plain": [
       "0.45"
      ]
     },
     "execution_count": 20,
     "metadata": {},
     "output_type": "execute_result"
    }
   ],
   "source": [
    "get_at_content(dna=\"ATCGTGACTCG\", sig_figs=2)"
   ]
  },
  {
   "cell_type": "code",
   "execution_count": 21,
   "metadata": {
    "collapsed": true
   },
   "outputs": [],
   "source": [
    "def get_at_content(dna, sig_figs=2):    \n",
    "    length = len(dna)   \n",
    "    a_count = dna.upper().count('A')  \n",
    "    t_count = dna.upper().count('T')  \n",
    "    at_content = (a_count + t_count) / length    \n",
    "    return round(at_content, sig_figs)"
   ]
  },
  {
   "cell_type": "code",
   "execution_count": 22,
   "metadata": {},
   "outputs": [
    {
     "data": {
      "text/plain": [
       "0.4545"
      ]
     },
     "execution_count": 22,
     "metadata": {},
     "output_type": "execute_result"
    }
   ],
   "source": [
    "get_at_content(\"ATCGTGACTCG\") \n",
    "get_at_content(\"ATCGTGACTCG\", 3) \n",
    "get_at_content(\"ATCGTGACTCG\", sig_figs=4)"
   ]
  },
  {
   "cell_type": "code",
   "execution_count": 23,
   "metadata": {
    "collapsed": true
   },
   "outputs": [],
   "source": [
    "assert get_at_content(\"ATGC\") == 0.5"
   ]
  },
  {
   "cell_type": "code",
   "execution_count": 24,
   "metadata": {},
   "outputs": [
    {
     "ename": "AssertionError",
     "evalue": "",
     "output_type": "error",
     "traceback": [
      "\u001b[0;31m---------------------------------------------------------------------------\u001b[0m",
      "\u001b[0;31mAssertionError\u001b[0m                            Traceback (most recent call last)",
      "\u001b[0;32m<ipython-input-24-4751c6590b89>\u001b[0m in \u001b[0;36m<module>\u001b[0;34m()\u001b[0m\n\u001b[0;32m----> 1\u001b[0;31m \u001b[0;32massert\u001b[0m \u001b[0mget_at_content\u001b[0m\u001b[0;34m(\u001b[0m\u001b[0;34m\"ATGCNNNNNNNNNN\"\u001b[0m\u001b[0;34m)\u001b[0m \u001b[0;34m==\u001b[0m \u001b[0;36m0.5\u001b[0m\u001b[0;34m\u001b[0m\u001b[0m\n\u001b[0m",
      "\u001b[0;31mAssertionError\u001b[0m: "
     ]
    }
   ],
   "source": [
    "assert get_at_content(\"ATGCNNNNNNNNNN\") == 0.5"
   ]
  },
  {
   "cell_type": "code",
   "execution_count": 25,
   "metadata": {
    "collapsed": true
   },
   "outputs": [],
   "source": [
    "def get_at_content(dna, sig_figs=2):  \n",
    "    dna = dna.replace('N', '')  \n",
    "    length = len(dna) \n",
    "    a_count = dna.upper().count('A')  \n",
    "    t_count = dna.upper().count('T')   \n",
    "    at_content = (a_count + t_count) / length     \n",
    "    return round(at_content, sig_figs) \n",
    "\n",
    "assert get_at_content(\"A\") == 1 \n",
    "assert get_at_content(\"G\") == 0\n",
    "assert get_at_content(\"ATGC\") == 0.5\n",
    "assert get_at_content(\"AGG\") == 0.33 \n",
    "assert get_at_content(\"AGG\", 1) == 0.3\n",
    "assert get_at_content(\"AGG\", 5) == 0.33333\n"
   ]
  },
  {
   "cell_type": "code",
   "execution_count": null,
   "metadata": {
    "collapsed": true
   },
   "outputs": [],
   "source": []
  }
 ],
 "metadata": {
  "kernelspec": {
   "display_name": "Python 3",
   "language": "python",
   "name": "python3"
  },
  "language_info": {
   "codemirror_mode": {
    "name": "ipython",
    "version": 3
   },
   "file_extension": ".py",
   "mimetype": "text/x-python",
   "name": "python",
   "nbconvert_exporter": "python",
   "pygments_lexer": "ipython3",
   "version": "3.6.3"
  }
 },
 "nbformat": 4,
 "nbformat_minor": 2
}
