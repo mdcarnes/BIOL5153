{
 "cells": [
  {
   "cell_type": "code",
   "execution_count": 2,
   "metadata": {},
   "outputs": [],
   "source": [
    "import os\n",
    "os.rename(\"old.txt\", \"new.txt\")"
   ]
  },
  {
   "cell_type": "code",
   "execution_count": 4,
   "metadata": {},
   "outputs": [],
   "source": [
    "os.rename(\"old_folder\", \"new_folder\")"
   ]
  },
  {
   "cell_type": "code",
   "execution_count": 6,
   "metadata": {},
   "outputs": [],
   "source": [
    "if os.path.exists(\"/home/martin/email.txt\"):\n",
    "    print(\"you have mail!\")"
   ]
  },
  {
   "cell_type": "code",
   "execution_count": 7,
   "metadata": {},
   "outputs": [
    {
     "name": "stdout",
     "output_type": "stream",
     "text": [
      "one file name is .bash_history\n",
      "one file name is .bash_logout\n",
      "one file name is .bashrc\n",
      "one file name is .conda\n",
      "one file name is .git\n",
      "one file name is .gitconfig\n",
      "one file name is .ipynb_checkpoints\n",
      "one file name is .ipython\n",
      "one file name is .jupyter\n",
      "one file name is .local\n",
      "one file name is .nano\n",
      "one file name is .profile\n",
      "one file name is .ssh\n",
      "one file name is .sudo_as_admin_successful\n",
      "one file name is BIOL5153\n",
      "one file name is CV.md\n",
      "one file name is Desktop\n",
      "one file name is In_Class_Workbook.ipynb\n",
      "one file name is P4B_ch2+3_carnesmason.ipynb\n",
      "one file name is P4B_ch4_carnesmason.ipynb\n",
      "one file name is P4B_ch8_carnesmason.ipynb\n",
      "one file name is P4B_ch9_carnesmason.ipynb\n",
      "one file name is README.md\n",
      "one file name is Untitled.ipynb\n",
      "one file name is anaconda\n",
      "one file name is dna.txt\n",
      "one file name is new.txt\n",
      "one file name is new_folder\n",
      "one file name is out.txt\n"
     ]
    }
   ],
   "source": [
    "for file_name in os.listdir(\".\"):\n",
    "    print(\"one file name is \" + file_name)"
   ]
  },
  {
   "cell_type": "code",
   "execution_count": 8,
   "metadata": {},
   "outputs": [
    {
     "data": {
      "text/plain": [
       "0"
      ]
     },
     "execution_count": 8,
     "metadata": {},
     "output_type": "execute_result"
    }
   ],
   "source": [
    "import subprocess\n",
    "subprocess.call(\"/bin/date\")"
   ]
  },
  {
   "cell_type": "code",
   "execution_count": 9,
   "metadata": {},
   "outputs": [
    {
     "data": {
      "text/plain": [
       "0"
      ]
     },
     "execution_count": 9,
     "metadata": {},
     "output_type": "execute_result"
    }
   ],
   "source": [
    "subprocess.call('/bin/date +%B', shell=True)"
   ]
  },
  {
   "cell_type": "code",
   "execution_count": 12,
   "metadata": {},
   "outputs": [
    {
     "name": "stdout",
     "output_type": "stream",
     "text": [
      "b'April\\n'\n"
     ]
    }
   ],
   "source": [
    "current_month = subprocess.check_output(\"/bin/date +%B\", shell=True)\n",
    "current_month.rstrip\n",
    "print(current_month)"
   ]
  },
  {
   "cell_type": "code",
   "execution_count": 13,
   "metadata": {
    "collapsed": true
   },
   "outputs": [],
   "source": [
    "dna = \"ATCGATCGTGACTAGCTACG\"\n"
   ]
  },
  {
   "cell_type": "code",
   "execution_count": null,
   "metadata": {},
   "outputs": [],
   "source": [
    "accession = input(\"Enter the accession name\")\n",
    "# do something with the acceession variable"
   ]
  },
  {
   "cell_type": "code",
   "execution_count": null,
   "metadata": {
    "collapsed": true
   },
   "outputs": [],
   "source": [
    "import sys\n",
    "print(sys.argv)"
   ]
  },
  {
   "cell_type": "code",
   "execution_count": null,
   "metadata": {
    "collapsed": true
   },
   "outputs": [],
   "source": [
    "myprogram one two three"
   ]
  },
  {
   "cell_type": "code",
   "execution_count": null,
   "metadata": {
    "collapsed": true
   },
   "outputs": [],
   "source": [
    "import sys\n",
    "print(sys.argv)"
   ]
  },
  {
   "cell_type": "code",
   "execution_count": null,
   "metadata": {
    "collapsed": true
   },
   "outputs": [],
   "source": []
  }
 ],
 "metadata": {
  "kernelspec": {
   "display_name": "Python 3",
   "language": "python",
   "name": "python3"
  },
  "language_info": {
   "codemirror_mode": {
    "name": "ipython",
    "version": 3
   },
   "file_extension": ".py",
   "mimetype": "text/x-python",
   "name": "python",
   "nbconvert_exporter": "python",
   "pygments_lexer": "ipython3",
   "version": "3.6.3"
  }
 },
 "nbformat": 4,
 "nbformat_minor": 2
}
